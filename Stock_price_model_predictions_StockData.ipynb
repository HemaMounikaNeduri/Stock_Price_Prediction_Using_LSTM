{
 "cells": [
  {
   "cell_type": "markdown",
   "metadata": {
    "colab_type": "text",
    "id": "view-in-github"
   },
   "source": [
    "<a href=\"https://colab.research.google.com/github/Laxmi-Narayana-Chilakala/Stock-price-Prediction/blob/main/Stock_price_model_predictions-model2.ipynb\" target=\"_parent\"><img src=\"https://colab.research.google.com/assets/colab-badge.svg\" alt=\"Open In Colab\"/></a>"
   ]
  },
  {
   "cell_type": "markdown",
   "metadata": {
    "id": "9fAyW4h0ImKS"
   },
   "source": [
    "## ***STOCK PRICE PREDICTION***"
   ]
  },
  {
   "cell_type": "code",
   "execution_count": null,
   "metadata": {
    "id": "TLme_BgDJEJA"
   },
   "outputs": [],
   "source": [
    "#Importing Required libraries for model building"
   ]
  },
  {
   "cell_type": "code",
   "execution_count": null,
   "metadata": {
    "id": "ZmmtPMgDnZuM"
   },
   "outputs": [],
   "source": [
    "import pandas as pd\n",
    "import numpy as np\n",
    "import matplotlib.pyplot as plt\n",
    "import seaborn as sns\n",
    "from tensorflow.keras import Sequential\n",
    "from tensorflow.keras.layers import Dense, LSTM, Dropout"
   ]
  },
  {
   "cell_type": "code",
   "execution_count": null,
   "metadata": {
    "id": "m-WVBjCkJKxI"
   },
   "outputs": [],
   "source": [
    "#Loading data into notebook"
   ]
  },
  {
   "cell_type": "code",
   "execution_count": null,
   "metadata": {
    "colab": {
     "base_uri": "https://localhost:8080/",
     "height": 72,
     "resources": {
      "http://localhost:8080/nbextensions/google.colab/files.js": {
       "data": "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",
       "headers": [
        [
         "content-type",
         "application/javascript"
        ]
       ],
       "ok": true,
       "status": 200,
       "status_text": ""
      }
     }
    },
    "id": "Lof-XDlWoK93",
    "outputId": "cf303464-d56a-4435-c4be-66bfaecc93d0"
   },
   "outputs": [
    {
     "data": {
      "text/html": [
       "\n",
       "     <input type=\"file\" id=\"files-16be5db9-e293-401b-b016-fed26d91614d\" name=\"files[]\" multiple disabled\n",
       "        style=\"border:none\" />\n",
       "     <output id=\"result-16be5db9-e293-401b-b016-fed26d91614d\">\n",
       "      Upload widget is only available when the cell has been executed in the\n",
       "      current browser session. Please rerun this cell to enable.\n",
       "      </output>\n",
       "      <script src=\"/nbextensions/google.colab/files.js\"></script> "
      ],
      "text/plain": [
       "<IPython.core.display.HTML object>"
      ]
     },
     "metadata": {
      "tags": []
     },
     "output_type": "display_data"
    },
    {
     "name": "stdout",
     "output_type": "stream",
     "text": [
      "Saving stock_data.csv to stock_data.csv\n"
     ]
    }
   ],
   "source": [
    "from google.colab import files\n",
    "uploaded = files.upload()"
   ]
  },
  {
   "cell_type": "code",
   "execution_count": null,
   "metadata": {
    "id": "QlgJl92-JOwb"
   },
   "outputs": [],
   "source": [
    "#Reading data into a dataframe"
   ]
  },
  {
   "cell_type": "code",
   "execution_count": null,
   "metadata": {
    "id": "mPziQdTkoVKZ"
   },
   "outputs": [],
   "source": [
    "df=pd.read_csv('/content/stock_data.csv')"
   ]
  },
  {
   "cell_type": "code",
   "execution_count": null,
   "metadata": {
    "id": "hX6aa5iXJV_A"
   },
   "outputs": [],
   "source": [
    "#Checking first 5 rows from dataframe "
   ]
  },
  {
   "cell_type": "code",
   "execution_count": null,
   "metadata": {
    "colab": {
     "base_uri": "https://localhost:8080/",
     "height": 204
    },
    "id": "eBFVJp4RoWjN",
    "outputId": "c8b593d0-f4c7-41ce-c9f9-cf7ee6a2bfc0"
   },
   "outputs": [
    {
     "data": {
      "text/html": [
       "<div>\n",
       "<style scoped>\n",
       "    .dataframe tbody tr th:only-of-type {\n",
       "        vertical-align: middle;\n",
       "    }\n",
       "\n",
       "    .dataframe tbody tr th {\n",
       "        vertical-align: top;\n",
       "    }\n",
       "\n",
       "    .dataframe thead th {\n",
       "        text-align: right;\n",
       "    }\n",
       "</style>\n",
       "<table border=\"1\" class=\"dataframe\">\n",
       "  <thead>\n",
       "    <tr style=\"text-align: right;\">\n",
       "      <th></th>\n",
       "      <th>Date</th>\n",
       "      <th>Open</th>\n",
       "      <th>High</th>\n",
       "      <th>Low</th>\n",
       "      <th>Close</th>\n",
       "      <th>Volume</th>\n",
       "      <th>OpenInt</th>\n",
       "      <th>Stock</th>\n",
       "    </tr>\n",
       "  </thead>\n",
       "  <tbody>\n",
       "    <tr>\n",
       "      <th>0</th>\n",
       "      <td>1984-09-07</td>\n",
       "      <td>0.42388</td>\n",
       "      <td>0.42902</td>\n",
       "      <td>0.41874</td>\n",
       "      <td>0.42388</td>\n",
       "      <td>23220030</td>\n",
       "      <td>0</td>\n",
       "      <td>AAPL</td>\n",
       "    </tr>\n",
       "    <tr>\n",
       "      <th>1</th>\n",
       "      <td>1984-09-10</td>\n",
       "      <td>0.42388</td>\n",
       "      <td>0.42516</td>\n",
       "      <td>0.41366</td>\n",
       "      <td>0.42134</td>\n",
       "      <td>18022532</td>\n",
       "      <td>0</td>\n",
       "      <td>AAPL</td>\n",
       "    </tr>\n",
       "    <tr>\n",
       "      <th>2</th>\n",
       "      <td>1984-09-11</td>\n",
       "      <td>0.42516</td>\n",
       "      <td>0.43668</td>\n",
       "      <td>0.42516</td>\n",
       "      <td>0.42902</td>\n",
       "      <td>42498199</td>\n",
       "      <td>0</td>\n",
       "      <td>AAPL</td>\n",
       "    </tr>\n",
       "    <tr>\n",
       "      <th>3</th>\n",
       "      <td>1984-09-12</td>\n",
       "      <td>0.42902</td>\n",
       "      <td>0.43157</td>\n",
       "      <td>0.41618</td>\n",
       "      <td>0.41618</td>\n",
       "      <td>37125801</td>\n",
       "      <td>0</td>\n",
       "      <td>AAPL</td>\n",
       "    </tr>\n",
       "    <tr>\n",
       "      <th>4</th>\n",
       "      <td>1984-09-13</td>\n",
       "      <td>0.43927</td>\n",
       "      <td>0.44052</td>\n",
       "      <td>0.43927</td>\n",
       "      <td>0.43927</td>\n",
       "      <td>57822062</td>\n",
       "      <td>0</td>\n",
       "      <td>AAPL</td>\n",
       "    </tr>\n",
       "  </tbody>\n",
       "</table>\n",
       "</div>"
      ],
      "text/plain": [
       "         Date     Open     High      Low    Close    Volume  OpenInt Stock\n",
       "0  1984-09-07  0.42388  0.42902  0.41874  0.42388  23220030        0  AAPL\n",
       "1  1984-09-10  0.42388  0.42516  0.41366  0.42134  18022532        0  AAPL\n",
       "2  1984-09-11  0.42516  0.43668  0.42516  0.42902  42498199        0  AAPL\n",
       "3  1984-09-12  0.42902  0.43157  0.41618  0.41618  37125801        0  AAPL\n",
       "4  1984-09-13  0.43927  0.44052  0.43927  0.43927  57822062        0  AAPL"
      ]
     },
     "execution_count": 46,
     "metadata": {
      "tags": []
     },
     "output_type": "execute_result"
    }
   ],
   "source": [
    "df.head()"
   ]
  },
  {
   "cell_type": "code",
   "execution_count": null,
   "metadata": {
    "id": "KIXOhuSfJe4s"
   },
   "outputs": [],
   "source": [
    "#Checking shape of the dataframe"
   ]
  },
  {
   "cell_type": "code",
   "execution_count": null,
   "metadata": {
    "colab": {
     "base_uri": "https://localhost:8080/"
    },
    "id": "RUq3jqVkMMR2",
    "outputId": "cdea4c43-661e-43af-daae-8879e5002b86"
   },
   "outputs": [
    {
     "data": {
      "text/plain": [
       "(19586, 8)"
      ]
     },
     "execution_count": 47,
     "metadata": {
      "tags": []
     },
     "output_type": "execute_result"
    }
   ],
   "source": [
    "df.shape"
   ]
  },
  {
   "cell_type": "code",
   "execution_count": null,
   "metadata": {
    "id": "azF2XaCzJieW"
   },
   "outputs": [],
   "source": [
    "#Checking last five rows of dataframe"
   ]
  },
  {
   "cell_type": "code",
   "execution_count": null,
   "metadata": {
    "colab": {
     "base_uri": "https://localhost:8080/",
     "height": 204
    },
    "id": "jaPO-KajjYi8",
    "outputId": "39705b0e-6e70-4452-fa01-f86124cd8795"
   },
   "outputs": [
    {
     "data": {
      "text/html": [
       "<div>\n",
       "<style scoped>\n",
       "    .dataframe tbody tr th:only-of-type {\n",
       "        vertical-align: middle;\n",
       "    }\n",
       "\n",
       "    .dataframe tbody tr th {\n",
       "        vertical-align: top;\n",
       "    }\n",
       "\n",
       "    .dataframe thead th {\n",
       "        text-align: right;\n",
       "    }\n",
       "</style>\n",
       "<table border=\"1\" class=\"dataframe\">\n",
       "  <thead>\n",
       "    <tr style=\"text-align: right;\">\n",
       "      <th></th>\n",
       "      <th>Date</th>\n",
       "      <th>Open</th>\n",
       "      <th>High</th>\n",
       "      <th>Low</th>\n",
       "      <th>Close</th>\n",
       "      <th>Volume</th>\n",
       "      <th>OpenInt</th>\n",
       "      <th>Stock</th>\n",
       "    </tr>\n",
       "  </thead>\n",
       "  <tbody>\n",
       "    <tr>\n",
       "      <th>19581</th>\n",
       "      <td>2017-11-06</td>\n",
       "      <td>178.56</td>\n",
       "      <td>180.450</td>\n",
       "      <td>178.310</td>\n",
       "      <td>180.17</td>\n",
       "      <td>13275578</td>\n",
       "      <td>0</td>\n",
       "      <td>FB</td>\n",
       "    </tr>\n",
       "    <tr>\n",
       "      <th>19582</th>\n",
       "      <td>2017-11-07</td>\n",
       "      <td>180.50</td>\n",
       "      <td>180.748</td>\n",
       "      <td>179.403</td>\n",
       "      <td>180.25</td>\n",
       "      <td>12903836</td>\n",
       "      <td>0</td>\n",
       "      <td>FB</td>\n",
       "    </tr>\n",
       "    <tr>\n",
       "      <th>19583</th>\n",
       "      <td>2017-11-08</td>\n",
       "      <td>179.79</td>\n",
       "      <td>180.350</td>\n",
       "      <td>179.110</td>\n",
       "      <td>179.56</td>\n",
       "      <td>10467606</td>\n",
       "      <td>0</td>\n",
       "      <td>FB</td>\n",
       "    </tr>\n",
       "    <tr>\n",
       "      <th>19584</th>\n",
       "      <td>2017-11-09</td>\n",
       "      <td>178.31</td>\n",
       "      <td>179.400</td>\n",
       "      <td>177.090</td>\n",
       "      <td>179.30</td>\n",
       "      <td>12602188</td>\n",
       "      <td>0</td>\n",
       "      <td>FB</td>\n",
       "    </tr>\n",
       "    <tr>\n",
       "      <th>19585</th>\n",
       "      <td>2017-11-10</td>\n",
       "      <td>178.35</td>\n",
       "      <td>179.100</td>\n",
       "      <td>177.960</td>\n",
       "      <td>178.46</td>\n",
       "      <td>11060355</td>\n",
       "      <td>0</td>\n",
       "      <td>FB</td>\n",
       "    </tr>\n",
       "  </tbody>\n",
       "</table>\n",
       "</div>"
      ],
      "text/plain": [
       "             Date    Open     High      Low   Close    Volume  OpenInt Stock\n",
       "19581  2017-11-06  178.56  180.450  178.310  180.17  13275578        0    FB\n",
       "19582  2017-11-07  180.50  180.748  179.403  180.25  12903836        0    FB\n",
       "19583  2017-11-08  179.79  180.350  179.110  179.56  10467606        0    FB\n",
       "19584  2017-11-09  178.31  179.400  177.090  179.30  12602188        0    FB\n",
       "19585  2017-11-10  178.35  179.100  177.960  178.46  11060355        0    FB"
      ]
     },
     "execution_count": 48,
     "metadata": {
      "tags": []
     },
     "output_type": "execute_result"
    }
   ],
   "source": [
    "df.tail()"
   ]
  },
  {
   "cell_type": "code",
   "execution_count": null,
   "metadata": {
    "id": "UJ6HM1g2Jplr"
   },
   "outputs": [],
   "source": [
    "#dataframe infofor descriptive analysis"
   ]
  },
  {
   "cell_type": "code",
   "execution_count": null,
   "metadata": {
    "colab": {
     "base_uri": "https://localhost:8080/"
    },
    "id": "zRDJl5oqMbwV",
    "outputId": "3fa14b92-2c64-41d6-8fc6-84de5b12f4f3"
   },
   "outputs": [
    {
     "name": "stdout",
     "output_type": "stream",
     "text": [
      "<class 'pandas.core.frame.DataFrame'>\n",
      "RangeIndex: 19586 entries, 0 to 19585\n",
      "Data columns (total 8 columns):\n",
      " #   Column   Non-Null Count  Dtype  \n",
      "---  ------   --------------  -----  \n",
      " 0   Date     19586 non-null  object \n",
      " 1   Open     19586 non-null  float64\n",
      " 2   High     19586 non-null  float64\n",
      " 3   Low      19586 non-null  float64\n",
      " 4   Close    19586 non-null  float64\n",
      " 5   Volume   19586 non-null  int64  \n",
      " 6   OpenInt  19586 non-null  int64  \n",
      " 7   Stock    19586 non-null  object \n",
      "dtypes: float64(4), int64(2), object(2)\n",
      "memory usage: 1.2+ MB\n"
     ]
    }
   ],
   "source": [
    "df.info()"
   ]
  },
  {
   "cell_type": "code",
   "execution_count": null,
   "metadata": {
    "id": "WlIYacJPJxlu"
   },
   "outputs": [],
   "source": [
    "#Checking description of data, how data varies "
   ]
  },
  {
   "cell_type": "code",
   "execution_count": null,
   "metadata": {
    "colab": {
     "base_uri": "https://localhost:8080/",
     "height": 297
    },
    "id": "o64OENdhMh4I",
    "outputId": "6e3c9de3-c531-464a-d11b-2102bf676666"
   },
   "outputs": [
    {
     "data": {
      "text/html": [
       "<div>\n",
       "<style scoped>\n",
       "    .dataframe tbody tr th:only-of-type {\n",
       "        vertical-align: middle;\n",
       "    }\n",
       "\n",
       "    .dataframe tbody tr th {\n",
       "        vertical-align: top;\n",
       "    }\n",
       "\n",
       "    .dataframe thead th {\n",
       "        text-align: right;\n",
       "    }\n",
       "</style>\n",
       "<table border=\"1\" class=\"dataframe\">\n",
       "  <thead>\n",
       "    <tr style=\"text-align: right;\">\n",
       "      <th></th>\n",
       "      <th>Open</th>\n",
       "      <th>High</th>\n",
       "      <th>Low</th>\n",
       "      <th>Close</th>\n",
       "      <th>Volume</th>\n",
       "      <th>OpenInt</th>\n",
       "    </tr>\n",
       "  </thead>\n",
       "  <tbody>\n",
       "    <tr>\n",
       "      <th>count</th>\n",
       "      <td>19586.000000</td>\n",
       "      <td>19586.000000</td>\n",
       "      <td>19586.000000</td>\n",
       "      <td>19586.000000</td>\n",
       "      <td>1.958600e+04</td>\n",
       "      <td>19586.0</td>\n",
       "    </tr>\n",
       "    <tr>\n",
       "      <th>mean</th>\n",
       "      <td>37.408582</td>\n",
       "      <td>37.881571</td>\n",
       "      <td>36.906405</td>\n",
       "      <td>37.406667</td>\n",
       "      <td>8.100395e+07</td>\n",
       "      <td>0.0</td>\n",
       "    </tr>\n",
       "    <tr>\n",
       "      <th>std</th>\n",
       "      <td>59.492049</td>\n",
       "      <td>60.287797</td>\n",
       "      <td>58.622548</td>\n",
       "      <td>59.480058</td>\n",
       "      <td>7.982366e+07</td>\n",
       "      <td>0.0</td>\n",
       "    </tr>\n",
       "    <tr>\n",
       "      <th>min</th>\n",
       "      <td>0.067200</td>\n",
       "      <td>0.067200</td>\n",
       "      <td>0.067200</td>\n",
       "      <td>0.067200</td>\n",
       "      <td>0.000000e+00</td>\n",
       "      <td>0.0</td>\n",
       "    </tr>\n",
       "    <tr>\n",
       "      <th>25%</th>\n",
       "      <td>1.412300</td>\n",
       "      <td>1.440600</td>\n",
       "      <td>1.384100</td>\n",
       "      <td>1.412300</td>\n",
       "      <td>3.385552e+07</td>\n",
       "      <td>0.0</td>\n",
       "    </tr>\n",
       "    <tr>\n",
       "      <th>50%</th>\n",
       "      <td>19.649500</td>\n",
       "      <td>19.933000</td>\n",
       "      <td>19.363000</td>\n",
       "      <td>19.640000</td>\n",
       "      <td>6.294731e+07</td>\n",
       "      <td>0.0</td>\n",
       "    </tr>\n",
       "    <tr>\n",
       "      <th>75%</th>\n",
       "      <td>38.605000</td>\n",
       "      <td>39.075750</td>\n",
       "      <td>38.229250</td>\n",
       "      <td>38.655500</td>\n",
       "      <td>1.010604e+08</td>\n",
       "      <td>0.0</td>\n",
       "    </tr>\n",
       "    <tr>\n",
       "      <th>max</th>\n",
       "      <td>386.690000</td>\n",
       "      <td>389.610000</td>\n",
       "      <td>379.345000</td>\n",
       "      <td>385.000000</td>\n",
       "      <td>2.069770e+09</td>\n",
       "      <td>0.0</td>\n",
       "    </tr>\n",
       "  </tbody>\n",
       "</table>\n",
       "</div>"
      ],
      "text/plain": [
       "               Open          High  ...        Volume  OpenInt\n",
       "count  19586.000000  19586.000000  ...  1.958600e+04  19586.0\n",
       "mean      37.408582     37.881571  ...  8.100395e+07      0.0\n",
       "std       59.492049     60.287797  ...  7.982366e+07      0.0\n",
       "min        0.067200      0.067200  ...  0.000000e+00      0.0\n",
       "25%        1.412300      1.440600  ...  3.385552e+07      0.0\n",
       "50%       19.649500     19.933000  ...  6.294731e+07      0.0\n",
       "75%       38.605000     39.075750  ...  1.010604e+08      0.0\n",
       "max      386.690000    389.610000  ...  2.069770e+09      0.0\n",
       "\n",
       "[8 rows x 6 columns]"
      ]
     },
     "execution_count": 50,
     "metadata": {
      "tags": []
     },
     "output_type": "execute_result"
    }
   ],
   "source": [
    "df.describe()"
   ]
  },
  {
   "cell_type": "code",
   "execution_count": null,
   "metadata": {
    "id": "hGmVDsnFKMz9"
   },
   "outputs": [],
   "source": [
    "#Converting date feature into datetime format"
   ]
  },
  {
   "cell_type": "code",
   "execution_count": null,
   "metadata": {
    "id": "t-St5LydMoKF"
   },
   "outputs": [],
   "source": [
    "df['Date']=pd.to_datetime(df['Date'])"
   ]
  },
  {
   "cell_type": "code",
   "execution_count": null,
   "metadata": {
    "colab": {
     "base_uri": "https://localhost:8080/"
    },
    "id": "880gSt4YM21u",
    "outputId": "def53ea0-fe8d-43e5-f1d8-9eeff3cdc6cd"
   },
   "outputs": [
    {
     "data": {
      "text/plain": [
       "0       1984-09-07\n",
       "1       1984-09-10\n",
       "2       1984-09-11\n",
       "3       1984-09-12\n",
       "4       1984-09-13\n",
       "           ...    \n",
       "19581   2017-11-06\n",
       "19582   2017-11-07\n",
       "19583   2017-11-08\n",
       "19584   2017-11-09\n",
       "19585   2017-11-10\n",
       "Name: Date, Length: 19586, dtype: datetime64[ns]"
      ]
     },
     "execution_count": 52,
     "metadata": {
      "tags": []
     },
     "output_type": "execute_result"
    }
   ],
   "source": [
    "df['Date']"
   ]
  },
  {
   "cell_type": "code",
   "execution_count": null,
   "metadata": {
    "id": "3F4nTSP3KXl5"
   },
   "outputs": [],
   "source": [
    " #Stock prices starts from"
   ]
  },
  {
   "cell_type": "code",
   "execution_count": null,
   "metadata": {
    "colab": {
     "base_uri": "https://localhost:8080/"
    },
    "id": "ECf3tG_iM6vz",
    "outputId": "df174114-8131-46e9-c2c7-8b685fc0eb58"
   },
   "outputs": [
    {
     "data": {
      "text/plain": [
       "Timestamp('1984-09-07 00:00:00')"
      ]
     },
     "execution_count": 53,
     "metadata": {
      "tags": []
     },
     "output_type": "execute_result"
    }
   ],
   "source": [
    "df.Date.min()"
   ]
  },
  {
   "cell_type": "code",
   "execution_count": null,
   "metadata": {
    "id": "jFvA2Z5rKhGd"
   },
   "outputs": [],
   "source": [
    "#Stock prices ends at"
   ]
  },
  {
   "cell_type": "code",
   "execution_count": null,
   "metadata": {
    "colab": {
     "base_uri": "https://localhost:8080/"
    },
    "id": "06MjO_61NKvK",
    "outputId": "1bc32bfd-061e-4511-d9d5-f1adcc362218"
   },
   "outputs": [
    {
     "data": {
      "text/plain": [
       "Timestamp('2017-11-10 00:00:00')"
      ]
     },
     "execution_count": 54,
     "metadata": {
      "tags": []
     },
     "output_type": "execute_result"
    }
   ],
   "source": [
    "df.Date.max()"
   ]
  },
  {
   "cell_type": "code",
   "execution_count": null,
   "metadata": {
    "id": "z9I2JB9IKlFs"
   },
   "outputs": [],
   "source": [
    "#Total Number of days"
   ]
  },
  {
   "cell_type": "code",
   "execution_count": null,
   "metadata": {
    "colab": {
     "base_uri": "https://localhost:8080/"
    },
    "id": "uuLsPJU5NPfD",
    "outputId": "43e62145-36a2-403a-e3cf-0f56ee3c612d"
   },
   "outputs": [
    {
     "data": {
      "text/plain": [
       "12117"
      ]
     },
     "execution_count": 55,
     "metadata": {
      "tags": []
     },
     "output_type": "execute_result"
    }
   ],
   "source": [
    "(df.Date.max()-df.Date.min()).days"
   ]
  },
  {
   "cell_type": "code",
   "execution_count": null,
   "metadata": {
    "id": "aQ5uyY30Km-h"
   },
   "outputs": [],
   "source": [
    "#Basic data visualization to check outliers using box plot"
   ]
  },
  {
   "cell_type": "code",
   "execution_count": null,
   "metadata": {
    "colab": {
     "base_uri": "https://localhost:8080/",
     "height": 293
    },
    "id": "tZsS5qgBNi1Y",
    "outputId": "99146b58-da37-48b3-e25f-0b1a6266ba6c"
   },
   "outputs": [
    {
     "data": {
      "text/plain": [
       "<matplotlib.axes._subplots.AxesSubplot at 0x7f919e4b6210>"
      ]
     },
     "execution_count": 56,
     "metadata": {
      "tags": []
     },
     "output_type": "execute_result"
    },
    {
     "data": {
      "image/png": "[encoded data removed]",
      "text/plain": [
       "<Figure size 432x288 with 1 Axes>"
      ]
     },
     "metadata": {
      "needs_background": "light",
      "tags": []
     },
     "output_type": "display_data"
    }
   ],
   "source": [
    "df[df.columns[1:-2]].plot(kind='box')"
   ]
  },
  {
   "cell_type": "code",
   "execution_count": null,
   "metadata": {
    "id": "Ah1erqxpK0NN"
   },
   "outputs": [],
   "source": [
    "#Spliting of data into train and test"
   ]
  },
  {
   "cell_type": "code",
   "execution_count": null,
   "metadata": {
    "id": "eQ3h0rF7MeNe"
   },
   "outputs": [],
   "source": [
    "data_training=df[df['Date']<'2015-01-01']"
   ]
  },
  {
   "cell_type": "code",
   "execution_count": null,
   "metadata": {
    "id": "4n-DENhKK_J8"
   },
   "outputs": [],
   "source": [
    "#Train dataset"
   ]
  },
  {
   "cell_type": "code",
   "execution_count": null,
   "metadata": {
    "colab": {
     "base_uri": "https://localhost:8080/",
     "height": 419
    },
    "id": "g-Lzq-JfLrJx",
    "outputId": "43d4f552-f036-48f2-8868-3a0485d15c40"
   },
   "outputs": [
    {
     "data": {
      "text/html": [
       "<div>\n",
       "<style scoped>\n",
       "    .dataframe tbody tr th:only-of-type {\n",
       "        vertical-align: middle;\n",
       "    }\n",
       "\n",
       "    .dataframe tbody tr th {\n",
       "        vertical-align: top;\n",
       "    }\n",
       "\n",
       "    .dataframe thead th {\n",
       "        text-align: right;\n",
       "    }\n",
       "</style>\n",
       "<table border=\"1\" class=\"dataframe\">\n",
       "  <thead>\n",
       "    <tr style=\"text-align: right;\">\n",
       "      <th></th>\n",
       "      <th>Date</th>\n",
       "      <th>Open</th>\n",
       "      <th>High</th>\n",
       "      <th>Low</th>\n",
       "      <th>Close</th>\n",
       "      <th>Volume</th>\n",
       "      <th>OpenInt</th>\n",
       "      <th>Stock</th>\n",
       "    </tr>\n",
       "  </thead>\n",
       "  <tbody>\n",
       "    <tr>\n",
       "      <th>0</th>\n",
       "      <td>1984-09-07</td>\n",
       "      <td>0.42388</td>\n",
       "      <td>0.42902</td>\n",
       "      <td>0.41874</td>\n",
       "      <td>0.42388</td>\n",
       "      <td>23220030</td>\n",
       "      <td>0</td>\n",
       "      <td>AAPL</td>\n",
       "    </tr>\n",
       "    <tr>\n",
       "      <th>1</th>\n",
       "      <td>1984-09-10</td>\n",
       "      <td>0.42388</td>\n",
       "      <td>0.42516</td>\n",
       "      <td>0.41366</td>\n",
       "      <td>0.42134</td>\n",
       "      <td>18022532</td>\n",
       "      <td>0</td>\n",
       "      <td>AAPL</td>\n",
       "    </tr>\n",
       "    <tr>\n",
       "      <th>2</th>\n",
       "      <td>1984-09-11</td>\n",
       "      <td>0.42516</td>\n",
       "      <td>0.43668</td>\n",
       "      <td>0.42516</td>\n",
       "      <td>0.42902</td>\n",
       "      <td>42498199</td>\n",
       "      <td>0</td>\n",
       "      <td>AAPL</td>\n",
       "    </tr>\n",
       "    <tr>\n",
       "      <th>3</th>\n",
       "      <td>1984-09-12</td>\n",
       "      <td>0.42902</td>\n",
       "      <td>0.43157</td>\n",
       "      <td>0.41618</td>\n",
       "      <td>0.41618</td>\n",
       "      <td>37125801</td>\n",
       "      <td>0</td>\n",
       "      <td>AAPL</td>\n",
       "    </tr>\n",
       "    <tr>\n",
       "      <th>4</th>\n",
       "      <td>1984-09-13</td>\n",
       "      <td>0.43927</td>\n",
       "      <td>0.44052</td>\n",
       "      <td>0.43927</td>\n",
       "      <td>0.43927</td>\n",
       "      <td>57822062</td>\n",
       "      <td>0</td>\n",
       "      <td>AAPL</td>\n",
       "    </tr>\n",
       "    <tr>\n",
       "      <th>...</th>\n",
       "      <td>...</td>\n",
       "      <td>...</td>\n",
       "      <td>...</td>\n",
       "      <td>...</td>\n",
       "      <td>...</td>\n",
       "      <td>...</td>\n",
       "      <td>...</td>\n",
       "      <td>...</td>\n",
       "    </tr>\n",
       "    <tr>\n",
       "      <th>18859</th>\n",
       "      <td>2014-12-24</td>\n",
       "      <td>81.03000</td>\n",
       "      <td>81.43000</td>\n",
       "      <td>80.75000</td>\n",
       "      <td>80.77000</td>\n",
       "      <td>7685480</td>\n",
       "      <td>0</td>\n",
       "      <td>FB</td>\n",
       "    </tr>\n",
       "    <tr>\n",
       "      <th>18860</th>\n",
       "      <td>2014-12-26</td>\n",
       "      <td>81.02000</td>\n",
       "      <td>81.28000</td>\n",
       "      <td>80.51000</td>\n",
       "      <td>80.78000</td>\n",
       "      <td>10642442</td>\n",
       "      <td>0</td>\n",
       "      <td>FB</td>\n",
       "    </tr>\n",
       "    <tr>\n",
       "      <th>18861</th>\n",
       "      <td>2014-12-29</td>\n",
       "      <td>80.49000</td>\n",
       "      <td>80.96000</td>\n",
       "      <td>79.71000</td>\n",
       "      <td>80.02000</td>\n",
       "      <td>14123244</td>\n",
       "      <td>0</td>\n",
       "      <td>FB</td>\n",
       "    </tr>\n",
       "    <tr>\n",
       "      <th>18862</th>\n",
       "      <td>2014-12-30</td>\n",
       "      <td>79.85000</td>\n",
       "      <td>80.59000</td>\n",
       "      <td>79.10000</td>\n",
       "      <td>79.22000</td>\n",
       "      <td>14367669</td>\n",
       "      <td>0</td>\n",
       "      <td>FB</td>\n",
       "    </tr>\n",
       "    <tr>\n",
       "      <th>18863</th>\n",
       "      <td>2014-12-31</td>\n",
       "      <td>79.53000</td>\n",
       "      <td>79.80000</td>\n",
       "      <td>77.86000</td>\n",
       "      <td>78.02000</td>\n",
       "      <td>20035308</td>\n",
       "      <td>0</td>\n",
       "      <td>FB</td>\n",
       "    </tr>\n",
       "  </tbody>\n",
       "</table>\n",
       "<p>16698 rows × 8 columns</p>\n",
       "</div>"
      ],
      "text/plain": [
       "            Date      Open      High  ...    Volume  OpenInt  Stock\n",
       "0     1984-09-07   0.42388   0.42902  ...  23220030        0   AAPL\n",
       "1     1984-09-10   0.42388   0.42516  ...  18022532        0   AAPL\n",
       "2     1984-09-11   0.42516   0.43668  ...  42498199        0   AAPL\n",
       "3     1984-09-12   0.42902   0.43157  ...  37125801        0   AAPL\n",
       "4     1984-09-13   0.43927   0.44052  ...  57822062        0   AAPL\n",
       "...          ...       ...       ...  ...       ...      ...    ...\n",
       "18859 2014-12-24  81.03000  81.43000  ...   7685480        0     FB\n",
       "18860 2014-12-26  81.02000  81.28000  ...  10642442        0     FB\n",
       "18861 2014-12-29  80.49000  80.96000  ...  14123244        0     FB\n",
       "18862 2014-12-30  79.85000  80.59000  ...  14367669        0     FB\n",
       "18863 2014-12-31  79.53000  79.80000  ...  20035308        0     FB\n",
       "\n",
       "[16698 rows x 8 columns]"
      ]
     },
     "execution_count": 62,
     "metadata": {
      "tags": []
     },
     "output_type": "execute_result"
    }
   ],
   "source": [
    "data_training"
   ]
  },
  {
   "cell_type": "code",
   "execution_count": null,
   "metadata": {
    "id": "sh4KxFzAMDf7"
   },
   "outputs": [],
   "source": [
    "data_testing=df[df['Date']>='2015-01-01']"
   ]
  },
  {
   "cell_type": "code",
   "execution_count": null,
   "metadata": {
    "id": "kGgFZm6xLDlg"
   },
   "outputs": [],
   "source": [
    "#Test dataset"
   ]
  },
  {
   "cell_type": "code",
   "execution_count": null,
   "metadata": {
    "colab": {
     "base_uri": "https://localhost:8080/",
     "height": 419
    },
    "id": "tJRbztCSOv6C",
    "outputId": "3464d386-97d5-41b8-9a16-ba2f1fc7c085"
   },
   "outputs": [
    {
     "data": {
      "text/html": [
       "<div>\n",
       "<style scoped>\n",
       "    .dataframe tbody tr th:only-of-type {\n",
       "        vertical-align: middle;\n",
       "    }\n",
       "\n",
       "    .dataframe tbody tr th {\n",
       "        vertical-align: top;\n",
       "    }\n",
       "\n",
       "    .dataframe thead th {\n",
       "        text-align: right;\n",
       "    }\n",
       "</style>\n",
       "<table border=\"1\" class=\"dataframe\">\n",
       "  <thead>\n",
       "    <tr style=\"text-align: right;\">\n",
       "      <th></th>\n",
       "      <th>Date</th>\n",
       "      <th>Open</th>\n",
       "      <th>High</th>\n",
       "      <th>Low</th>\n",
       "      <th>Close</th>\n",
       "      <th>Volume</th>\n",
       "      <th>OpenInt</th>\n",
       "      <th>Stock</th>\n",
       "    </tr>\n",
       "  </thead>\n",
       "  <tbody>\n",
       "    <tr>\n",
       "      <th>7642</th>\n",
       "      <td>2015-01-02</td>\n",
       "      <td>105.44</td>\n",
       "      <td>105.490</td>\n",
       "      <td>101.620</td>\n",
       "      <td>103.50</td>\n",
       "      <td>56196458</td>\n",
       "      <td>0</td>\n",
       "      <td>AAPL</td>\n",
       "    </tr>\n",
       "    <tr>\n",
       "      <th>7643</th>\n",
       "      <td>2015-01-05</td>\n",
       "      <td>102.51</td>\n",
       "      <td>102.830</td>\n",
       "      <td>99.790</td>\n",
       "      <td>100.58</td>\n",
       "      <td>67880159</td>\n",
       "      <td>0</td>\n",
       "      <td>AAPL</td>\n",
       "    </tr>\n",
       "    <tr>\n",
       "      <th>7644</th>\n",
       "      <td>2015-01-06</td>\n",
       "      <td>100.97</td>\n",
       "      <td>101.690</td>\n",
       "      <td>99.044</td>\n",
       "      <td>100.59</td>\n",
       "      <td>69460979</td>\n",
       "      <td>0</td>\n",
       "      <td>AAPL</td>\n",
       "    </tr>\n",
       "    <tr>\n",
       "      <th>7645</th>\n",
       "      <td>2015-01-07</td>\n",
       "      <td>101.49</td>\n",
       "      <td>102.420</td>\n",
       "      <td>100.990</td>\n",
       "      <td>102.01</td>\n",
       "      <td>42324520</td>\n",
       "      <td>0</td>\n",
       "      <td>AAPL</td>\n",
       "    </tr>\n",
       "    <tr>\n",
       "      <th>7646</th>\n",
       "      <td>2015-01-08</td>\n",
       "      <td>103.40</td>\n",
       "      <td>106.170</td>\n",
       "      <td>102.880</td>\n",
       "      <td>105.93</td>\n",
       "      <td>62679241</td>\n",
       "      <td>0</td>\n",
       "      <td>AAPL</td>\n",
       "    </tr>\n",
       "    <tr>\n",
       "      <th>...</th>\n",
       "      <td>...</td>\n",
       "      <td>...</td>\n",
       "      <td>...</td>\n",
       "      <td>...</td>\n",
       "      <td>...</td>\n",
       "      <td>...</td>\n",
       "      <td>...</td>\n",
       "      <td>...</td>\n",
       "    </tr>\n",
       "    <tr>\n",
       "      <th>19581</th>\n",
       "      <td>2017-11-06</td>\n",
       "      <td>178.56</td>\n",
       "      <td>180.450</td>\n",
       "      <td>178.310</td>\n",
       "      <td>180.17</td>\n",
       "      <td>13275578</td>\n",
       "      <td>0</td>\n",
       "      <td>FB</td>\n",
       "    </tr>\n",
       "    <tr>\n",
       "      <th>19582</th>\n",
       "      <td>2017-11-07</td>\n",
       "      <td>180.50</td>\n",
       "      <td>180.748</td>\n",
       "      <td>179.403</td>\n",
       "      <td>180.25</td>\n",
       "      <td>12903836</td>\n",
       "      <td>0</td>\n",
       "      <td>FB</td>\n",
       "    </tr>\n",
       "    <tr>\n",
       "      <th>19583</th>\n",
       "      <td>2017-11-08</td>\n",
       "      <td>179.79</td>\n",
       "      <td>180.350</td>\n",
       "      <td>179.110</td>\n",
       "      <td>179.56</td>\n",
       "      <td>10467606</td>\n",
       "      <td>0</td>\n",
       "      <td>FB</td>\n",
       "    </tr>\n",
       "    <tr>\n",
       "      <th>19584</th>\n",
       "      <td>2017-11-09</td>\n",
       "      <td>178.31</td>\n",
       "      <td>179.400</td>\n",
       "      <td>177.090</td>\n",
       "      <td>179.30</td>\n",
       "      <td>12602188</td>\n",
       "      <td>0</td>\n",
       "      <td>FB</td>\n",
       "    </tr>\n",
       "    <tr>\n",
       "      <th>19585</th>\n",
       "      <td>2017-11-10</td>\n",
       "      <td>178.35</td>\n",
       "      <td>179.100</td>\n",
       "      <td>177.960</td>\n",
       "      <td>178.46</td>\n",
       "      <td>11060355</td>\n",
       "      <td>0</td>\n",
       "      <td>FB</td>\n",
       "    </tr>\n",
       "  </tbody>\n",
       "</table>\n",
       "<p>2888 rows × 8 columns</p>\n",
       "</div>"
      ],
      "text/plain": [
       "            Date    Open     High      Low   Close    Volume  OpenInt Stock\n",
       "7642  2015-01-02  105.44  105.490  101.620  103.50  56196458        0  AAPL\n",
       "7643  2015-01-05  102.51  102.830   99.790  100.58  67880159        0  AAPL\n",
       "7644  2015-01-06  100.97  101.690   99.044  100.59  69460979        0  AAPL\n",
       "7645  2015-01-07  101.49  102.420  100.990  102.01  42324520        0  AAPL\n",
       "7646  2015-01-08  103.40  106.170  102.880  105.93  62679241        0  AAPL\n",
       "...          ...     ...      ...      ...     ...       ...      ...   ...\n",
       "19581 2017-11-06  178.56  180.450  178.310  180.17  13275578        0    FB\n",
       "19582 2017-11-07  180.50  180.748  179.403  180.25  12903836        0    FB\n",
       "19583 2017-11-08  179.79  180.350  179.110  179.56  10467606        0    FB\n",
       "19584 2017-11-09  178.31  179.400  177.090  179.30  12602188        0    FB\n",
       "19585 2017-11-10  178.35  179.100  177.960  178.46  11060355        0    FB\n",
       "\n",
       "[2888 rows x 8 columns]"
      ]
     },
     "execution_count": 64,
     "metadata": {
      "tags": []
     },
     "output_type": "execute_result"
    }
   ],
   "source": [
    "\n",
    "data_testing"
   ]
  },
  {
   "cell_type": "code",
   "execution_count": null,
   "metadata": {
    "id": "DqjkRan2LHAn"
   },
   "outputs": [],
   "source": [
    "#Droping unused features from dataframe"
   ]
  },
  {
   "cell_type": "code",
   "execution_count": null,
   "metadata": {
    "colab": {
     "base_uri": "https://localhost:8080/",
     "height": 419
    },
    "id": "MtkolaP0PNdY",
    "outputId": "19e95786-ccb3-415c-9248-43272a112220"
   },
   "outputs": [
    {
     "data": {
      "text/html": [
       "<div>\n",
       "<style scoped>\n",
       "    .dataframe tbody tr th:only-of-type {\n",
       "        vertical-align: middle;\n",
       "    }\n",
       "\n",
       "    .dataframe tbody tr th {\n",
       "        vertical-align: top;\n",
       "    }\n",
       "\n",
       "    .dataframe thead th {\n",
       "        text-align: right;\n",
       "    }\n",
       "</style>\n",
       "<table border=\"1\" class=\"dataframe\">\n",
       "  <thead>\n",
       "    <tr style=\"text-align: right;\">\n",
       "      <th></th>\n",
       "      <th>Open</th>\n",
       "      <th>High</th>\n",
       "      <th>Low</th>\n",
       "      <th>Close</th>\n",
       "      <th>Volume</th>\n",
       "    </tr>\n",
       "  </thead>\n",
       "  <tbody>\n",
       "    <tr>\n",
       "      <th>0</th>\n",
       "      <td>0.42388</td>\n",
       "      <td>0.42902</td>\n",
       "      <td>0.41874</td>\n",
       "      <td>0.42388</td>\n",
       "      <td>23220030</td>\n",
       "    </tr>\n",
       "    <tr>\n",
       "      <th>1</th>\n",
       "      <td>0.42388</td>\n",
       "      <td>0.42516</td>\n",
       "      <td>0.41366</td>\n",
       "      <td>0.42134</td>\n",
       "      <td>18022532</td>\n",
       "    </tr>\n",
       "    <tr>\n",
       "      <th>2</th>\n",
       "      <td>0.42516</td>\n",
       "      <td>0.43668</td>\n",
       "      <td>0.42516</td>\n",
       "      <td>0.42902</td>\n",
       "      <td>42498199</td>\n",
       "    </tr>\n",
       "    <tr>\n",
       "      <th>3</th>\n",
       "      <td>0.42902</td>\n",
       "      <td>0.43157</td>\n",
       "      <td>0.41618</td>\n",
       "      <td>0.41618</td>\n",
       "      <td>37125801</td>\n",
       "    </tr>\n",
       "    <tr>\n",
       "      <th>4</th>\n",
       "      <td>0.43927</td>\n",
       "      <td>0.44052</td>\n",
       "      <td>0.43927</td>\n",
       "      <td>0.43927</td>\n",
       "      <td>57822062</td>\n",
       "    </tr>\n",
       "    <tr>\n",
       "      <th>...</th>\n",
       "      <td>...</td>\n",
       "      <td>...</td>\n",
       "      <td>...</td>\n",
       "      <td>...</td>\n",
       "      <td>...</td>\n",
       "    </tr>\n",
       "    <tr>\n",
       "      <th>18859</th>\n",
       "      <td>81.03000</td>\n",
       "      <td>81.43000</td>\n",
       "      <td>80.75000</td>\n",
       "      <td>80.77000</td>\n",
       "      <td>7685480</td>\n",
       "    </tr>\n",
       "    <tr>\n",
       "      <th>18860</th>\n",
       "      <td>81.02000</td>\n",
       "      <td>81.28000</td>\n",
       "      <td>80.51000</td>\n",
       "      <td>80.78000</td>\n",
       "      <td>10642442</td>\n",
       "    </tr>\n",
       "    <tr>\n",
       "      <th>18861</th>\n",
       "      <td>80.49000</td>\n",
       "      <td>80.96000</td>\n",
       "      <td>79.71000</td>\n",
       "      <td>80.02000</td>\n",
       "      <td>14123244</td>\n",
       "    </tr>\n",
       "    <tr>\n",
       "      <th>18862</th>\n",
       "      <td>79.85000</td>\n",
       "      <td>80.59000</td>\n",
       "      <td>79.10000</td>\n",
       "      <td>79.22000</td>\n",
       "      <td>14367669</td>\n",
       "    </tr>\n",
       "    <tr>\n",
       "      <th>18863</th>\n",
       "      <td>79.53000</td>\n",
       "      <td>79.80000</td>\n",
       "      <td>77.86000</td>\n",
       "      <td>78.02000</td>\n",
       "      <td>20035308</td>\n",
       "    </tr>\n",
       "  </tbody>\n",
       "</table>\n",
       "<p>16698 rows × 5 columns</p>\n",
       "</div>"
      ],
      "text/plain": [
       "           Open      High       Low     Close    Volume\n",
       "0       0.42388   0.42902   0.41874   0.42388  23220030\n",
       "1       0.42388   0.42516   0.41366   0.42134  18022532\n",
       "2       0.42516   0.43668   0.42516   0.42902  42498199\n",
       "3       0.42902   0.43157   0.41618   0.41618  37125801\n",
       "4       0.43927   0.44052   0.43927   0.43927  57822062\n",
       "...         ...       ...       ...       ...       ...\n",
       "18859  81.03000  81.43000  80.75000  80.77000   7685480\n",
       "18860  81.02000  81.28000  80.51000  80.78000  10642442\n",
       "18861  80.49000  80.96000  79.71000  80.02000  14123244\n",
       "18862  79.85000  80.59000  79.10000  79.22000  14367669\n",
       "18863  79.53000  79.80000  77.86000  78.02000  20035308\n",
       "\n",
       "[16698 rows x 5 columns]"
      ]
     },
     "execution_count": 65,
     "metadata": {
      "tags": []
     },
     "output_type": "execute_result"
    }
   ],
   "source": [
    "\n",
    "train_data=data_training.drop(['Date','OpenInt',\t'Stock'],axis=1)\n",
    "train_data"
   ]
  },
  {
   "cell_type": "code",
   "execution_count": null,
   "metadata": {
    "id": "PH8od2OALOnb"
   },
   "outputs": [],
   "source": [
    "#Data standardization is the process of bringing data into a uniform format"
   ]
  },
  {
   "cell_type": "code",
   "execution_count": null,
   "metadata": {
    "colab": {
     "base_uri": "https://localhost:8080/"
    },
    "id": "tTgJdqagPZ3u",
    "outputId": "f9d38526-1f26-4065-a03b-b1458f178435"
   },
   "outputs": [
    {
     "data": {
      "text/plain": [
       "array([[0.00124018, 0.00124186, 0.00125401, 0.00124725, 0.01121865],\n",
       "       [0.00124018, 0.00122861, 0.00123589, 0.00123837, 0.00870751],\n",
       "       [0.00124463, 0.00126815, 0.00127691, 0.00126523, 0.02053281],\n",
       "       ...,\n",
       "       [0.27963149, 0.27764552, 0.2841009 , 0.27958183, 0.00682358],\n",
       "       [0.2774062 , 0.27637558, 0.28192491, 0.27678437, 0.00694167],\n",
       "       [0.27629355, 0.27366409, 0.2775016 , 0.27258816, 0.00967997]])"
      ]
     },
     "execution_count": 66,
     "metadata": {
      "tags": []
     },
     "output_type": "execute_result"
    }
   ],
   "source": [
    "scaler=MinMaxScaler()\n",
    "train_data=scaler.fit_transform(train_data)\n",
    "train_data"
   ]
  },
  {
   "cell_type": "code",
   "execution_count": null,
   "metadata": {
    "id": "E0CKUjVMPhQi"
   },
   "outputs": [],
   "source": [
    "X_train= []\n",
    "y_train= []"
   ]
  },
  {
   "cell_type": "code",
   "execution_count": null,
   "metadata": {
    "id": "oSw0EWDlMoRq"
   },
   "outputs": [],
   "source": [
    "#Preparation of data for timesires model building based on previous 60 timestamps"
   ]
  },
  {
   "cell_type": "code",
   "execution_count": null,
   "metadata": {
    "id": "7EC6XbJwPjR9"
   },
   "outputs": [],
   "source": [
    "for i in range(60,train_data.shape[0]):\n",
    "  X_train.append(train_data[i-60:i])\n",
    "  y_train.append(train_data[i,3])"
   ]
  },
  {
   "cell_type": "code",
   "execution_count": null,
   "metadata": {
    "id": "s3LqmKEcPm7I"
   },
   "outputs": [],
   "source": [
    "X_train, y_train  = np.array(X_train), np.array(y_train)"
   ]
  },
  {
   "cell_type": "code",
   "execution_count": null,
   "metadata": {
    "id": "AU9Jh1dkL1JP"
   },
   "outputs": [],
   "source": [
    "#train shape"
   ]
  },
  {
   "cell_type": "code",
   "execution_count": null,
   "metadata": {
    "colab": {
     "base_uri": "https://localhost:8080/"
    },
    "id": "ib7gwP27P5qZ",
    "outputId": "3da483d7-5828-408b-cab6-fa4de8587b6f"
   },
   "outputs": [
    {
     "data": {
      "text/plain": [
       "((16638, 60, 5), (16638,))"
      ]
     },
     "execution_count": 70,
     "metadata": {
      "tags": []
     },
     "output_type": "execute_result"
    }
   ],
   "source": [
    "X_train.shape, y_train.shape"
   ]
  },
  {
   "cell_type": "code",
   "execution_count": null,
   "metadata": {
    "id": "H1Q7LSN2P78B"
   },
   "outputs": [],
   "source": [
    "#Model Builing using LSTM Networks"
   ]
  },
  {
   "cell_type": "code",
   "execution_count": null,
   "metadata": {
    "colab": {
     "base_uri": "https://localhost:8080/"
    },
    "id": "Z22GrvB5QCw-",
    "outputId": "67bbe6b7-f261-4534-d811-4d04fa34b55e"
   },
   "outputs": [
    {
     "name": "stdout",
     "output_type": "stream",
     "text": [
      "WARNING:tensorflow:Layer lstm_3 will not use cuDNN kernels since it doesn't meet the criteria. It will use a generic GPU kernel as fallback when running on GPU.\n",
      "WARNING:tensorflow:Layer lstm_4 will not use cuDNN kernels since it doesn't meet the criteria. It will use a generic GPU kernel as fallback when running on GPU.\n",
      "WARNING:tensorflow:Layer lstm_5 will not use cuDNN kernels since it doesn't meet the criteria. It will use a generic GPU kernel as fallback when running on GPU.\n",
      "WARNING:tensorflow:Layer lstm_6 will not use cuDNN kernels since it doesn't meet the criteria. It will use a generic GPU kernel as fallback when running on GPU.\n",
      "WARNING:tensorflow:Layer lstm_7 will not use cuDNN kernels since it doesn't meet the criteria. It will use a generic GPU kernel as fallback when running on GPU.\n"
     ]
    }
   ],
   "source": [
    "regression= Sequential()\n",
    "\n",
    "regression.add(LSTM(units=60, activation='relu', return_sequences=True, input_shape=(X_train.shape[1],5)))\n",
    "regression.add(Dropout(0.2))\n",
    "\n",
    "regression.add(LSTM(units=60, activation='relu', return_sequences=True))\n",
    "regression.add(Dropout(0.2))\n",
    "\n",
    "regression.add(LSTM(units=80, activation='relu', return_sequences=True))\n",
    "regression.add(Dropout(0.2))\n",
    "\n",
    "regression.add(LSTM(units=100, activation='relu', return_sequences=True))\n",
    "regression.add(Dropout(0.3))\n",
    "\n",
    "regression.add(LSTM(units=120, activation='relu'))\n",
    "regression.add(Dropout(0.2))\n",
    "\n",
    "regression.add(Dense(units=1))"
   ]
  },
  {
   "cell_type": "code",
   "execution_count": null,
   "metadata": {
    "id": "mpClB3T-MuYW"
   },
   "outputs": [],
   "source": [
    "#CHecking model summary, how many neurons in network"
   ]
  },
  {
   "cell_type": "code",
   "execution_count": null,
   "metadata": {
    "colab": {
     "base_uri": "https://localhost:8080/"
    },
    "id": "W49kBx-bQIbk",
    "outputId": "5860dfaa-5f58-4673-ae0e-a4a1935b02d0"
   },
   "outputs": [
    {
     "name": "stdout",
     "output_type": "stream",
     "text": [
      "Model: \"sequential_1\"\n",
      "_________________________________________________________________\n",
      "Layer (type)                 Output Shape              Param #   \n",
      "=================================================================\n",
      "lstm_3 (LSTM)                (None, 60, 60)            15840     \n",
      "_________________________________________________________________\n",
      "dropout (Dropout)            (None, 60, 60)            0         \n",
      "_________________________________________________________________\n",
      "lstm_4 (LSTM)                (None, 60, 60)            29040     \n",
      "_________________________________________________________________\n",
      "dropout_1 (Dropout)          (None, 60, 60)            0         \n",
      "_________________________________________________________________\n",
      "lstm_5 (LSTM)                (None, 60, 80)            45120     \n",
      "_________________________________________________________________\n",
      "dropout_2 (Dropout)          (None, 60, 80)            0         \n",
      "_________________________________________________________________\n",
      "lstm_6 (LSTM)                (None, 60, 100)           72400     \n",
      "_________________________________________________________________\n",
      "dropout_3 (Dropout)          (None, 60, 100)           0         \n",
      "_________________________________________________________________\n",
      "lstm_7 (LSTM)                (None, 120)               106080    \n",
      "_________________________________________________________________\n",
      "dropout_4 (Dropout)          (None, 120)               0         \n",
      "_________________________________________________________________\n",
      "dense_1 (Dense)              (None, 1)                 121       \n",
      "=================================================================\n",
      "Total params: 268,601\n",
      "Trainable params: 268,601\n",
      "Non-trainable params: 0\n",
      "_________________________________________________________________\n"
     ]
    }
   ],
   "source": [
    "regression.summary()"
   ]
  },
  {
   "cell_type": "code",
   "execution_count": null,
   "metadata": {
    "id": "Kw66xYi0M5GQ"
   },
   "outputs": [],
   "source": [
    "#Compiling the model with optimizer and loss function"
   ]
  },
  {
   "cell_type": "code",
   "execution_count": null,
   "metadata": {
    "id": "IaWIgj5BgTWt"
   },
   "outputs": [],
   "source": [
    "regression.compile(optimizer='adam',loss='mean_squared_error')"
   ]
  },
  {
   "cell_type": "code",
   "execution_count": null,
   "metadata": {
    "id": "cD6SGkuVM-sb"
   },
   "outputs": [],
   "source": [
    "#Model fitting"
   ]
  },
  {
   "cell_type": "code",
   "execution_count": null,
   "metadata": {
    "colab": {
     "base_uri": "https://localhost:8080/"
    },
    "id": "-1ktO-cfQLYx",
    "outputId": "8c62a21f-ef59-4105-d9ba-a71eb0642a5e"
   },
   "outputs": [
    {
     "name": "stdout",
     "output_type": "stream",
     "text": [
      "Epoch 1/20\n",
      "520/520 [==============================] - 226s 427ms/step - loss: 0.0021\n",
      "Epoch 2/20\n",
      "520/520 [==============================] - 221s 426ms/step - loss: 0.0011\n",
      "Epoch 3/20\n",
      "520/520 [==============================] - 219s 422ms/step - loss: 7.5867e-04\n",
      "Epoch 4/20\n",
      "520/520 [==============================] - 223s 428ms/step - loss: 6.2253e-04\n",
      "Epoch 5/20\n",
      "520/520 [==============================] - 221s 424ms/step - loss: 5.7389e-04\n",
      "Epoch 6/20\n",
      "520/520 [==============================] - 219s 422ms/step - loss: 6.6106e-04\n",
      "Epoch 7/20\n",
      "520/520 [==============================] - 220s 422ms/step - loss: 4.7694e-04\n",
      "Epoch 8/20\n",
      "520/520 [==============================] - 217s 418ms/step - loss: 4.9284e-04\n",
      "Epoch 9/20\n",
      "520/520 [==============================] - 219s 422ms/step - loss: 4.6710e-04\n",
      "Epoch 10/20\n",
      "520/520 [==============================] - 221s 425ms/step - loss: 4.0917e-04\n",
      "Epoch 11/20\n",
      "520/520 [==============================] - 218s 420ms/step - loss: 3.3955e-04\n",
      "Epoch 12/20\n",
      "520/520 [==============================] - 219s 422ms/step - loss: 3.8385e-04\n",
      "Epoch 13/20\n",
      "520/520 [==============================] - 220s 422ms/step - loss: 3.4024e-04\n",
      "Epoch 14/20\n",
      "520/520 [==============================] - 217s 417ms/step - loss: 3.4307e-04\n",
      "Epoch 15/20\n",
      "520/520 [==============================] - 221s 425ms/step - loss: 3.1331e-04\n",
      "Epoch 16/20\n",
      "520/520 [==============================] - 222s 428ms/step - loss: 3.2426e-04\n",
      "Epoch 17/20\n",
      "520/520 [==============================] - 221s 424ms/step - loss: 3.4163e-04\n",
      "Epoch 18/20\n",
      "520/520 [==============================] - 221s 425ms/step - loss: 3.2715e-04\n",
      "Epoch 19/20\n",
      "520/520 [==============================] - 220s 422ms/step - loss: 3.2874e-04\n",
      "Epoch 20/20\n",
      "520/520 [==============================] - 221s 425ms/step - loss: 2.9596e-04\n"
     ]
    }
   ],
   "source": [
    "history=regression.fit(X_train,y_train, epochs=20, batch_size=32)"
   ]
  },
  {
   "cell_type": "code",
   "execution_count": null,
   "metadata": {
    "colab": {
     "base_uri": "https://localhost:8080/",
     "height": 204
    },
    "id": "fgTacoUGQNyD",
    "outputId": "b407868a-f121-4232-e12d-a445324237c7"
   },
   "outputs": [
    {
     "data": {
      "text/html": [
       "<div>\n",
       "<style scoped>\n",
       "    .dataframe tbody tr th:only-of-type {\n",
       "        vertical-align: middle;\n",
       "    }\n",
       "\n",
       "    .dataframe tbody tr th {\n",
       "        vertical-align: top;\n",
       "    }\n",
       "\n",
       "    .dataframe thead th {\n",
       "        text-align: right;\n",
       "    }\n",
       "</style>\n",
       "<table border=\"1\" class=\"dataframe\">\n",
       "  <thead>\n",
       "    <tr style=\"text-align: right;\">\n",
       "      <th></th>\n",
       "      <th>Date</th>\n",
       "      <th>Open</th>\n",
       "      <th>High</th>\n",
       "      <th>Low</th>\n",
       "      <th>Close</th>\n",
       "      <th>Volume</th>\n",
       "      <th>OpenInt</th>\n",
       "      <th>Stock</th>\n",
       "    </tr>\n",
       "  </thead>\n",
       "  <tbody>\n",
       "    <tr>\n",
       "      <th>7642</th>\n",
       "      <td>2015-01-02</td>\n",
       "      <td>105.44</td>\n",
       "      <td>105.49</td>\n",
       "      <td>101.620</td>\n",
       "      <td>103.50</td>\n",
       "      <td>56196458</td>\n",
       "      <td>0</td>\n",
       "      <td>AAPL</td>\n",
       "    </tr>\n",
       "    <tr>\n",
       "      <th>7643</th>\n",
       "      <td>2015-01-05</td>\n",
       "      <td>102.51</td>\n",
       "      <td>102.83</td>\n",
       "      <td>99.790</td>\n",
       "      <td>100.58</td>\n",
       "      <td>67880159</td>\n",
       "      <td>0</td>\n",
       "      <td>AAPL</td>\n",
       "    </tr>\n",
       "    <tr>\n",
       "      <th>7644</th>\n",
       "      <td>2015-01-06</td>\n",
       "      <td>100.97</td>\n",
       "      <td>101.69</td>\n",
       "      <td>99.044</td>\n",
       "      <td>100.59</td>\n",
       "      <td>69460979</td>\n",
       "      <td>0</td>\n",
       "      <td>AAPL</td>\n",
       "    </tr>\n",
       "    <tr>\n",
       "      <th>7645</th>\n",
       "      <td>2015-01-07</td>\n",
       "      <td>101.49</td>\n",
       "      <td>102.42</td>\n",
       "      <td>100.990</td>\n",
       "      <td>102.01</td>\n",
       "      <td>42324520</td>\n",
       "      <td>0</td>\n",
       "      <td>AAPL</td>\n",
       "    </tr>\n",
       "    <tr>\n",
       "      <th>7646</th>\n",
       "      <td>2015-01-08</td>\n",
       "      <td>103.40</td>\n",
       "      <td>106.17</td>\n",
       "      <td>102.880</td>\n",
       "      <td>105.93</td>\n",
       "      <td>62679241</td>\n",
       "      <td>0</td>\n",
       "      <td>AAPL</td>\n",
       "    </tr>\n",
       "  </tbody>\n",
       "</table>\n",
       "</div>"
      ],
      "text/plain": [
       "           Date    Open    High      Low   Close    Volume  OpenInt Stock\n",
       "7642 2015-01-02  105.44  105.49  101.620  103.50  56196458        0  AAPL\n",
       "7643 2015-01-05  102.51  102.83   99.790  100.58  67880159        0  AAPL\n",
       "7644 2015-01-06  100.97  101.69   99.044  100.59  69460979        0  AAPL\n",
       "7645 2015-01-07  101.49  102.42  100.990  102.01  42324520        0  AAPL\n",
       "7646 2015-01-08  103.40  106.17  102.880  105.93  62679241        0  AAPL"
      ]
     },
     "execution_count": 76,
     "metadata": {
      "tags": []
     },
     "output_type": "execute_result"
    }
   ],
   "source": [
    "data_testing.head()"
   ]
  },
  {
   "cell_type": "code",
   "execution_count": null,
   "metadata": {
    "colab": {
     "base_uri": "https://localhost:8080/",
     "height": 1000
    },
    "id": "bG1oIL8QQQNI",
    "outputId": "ee8aa530-916d-4e9b-e90c-d53e50fdc8f2"
   },
   "outputs": [
    {
     "data": {
      "text/html": [
       "<div>\n",
       "<style scoped>\n",
       "    .dataframe tbody tr th:only-of-type {\n",
       "        vertical-align: middle;\n",
       "    }\n",
       "\n",
       "    .dataframe tbody tr th {\n",
       "        vertical-align: top;\n",
       "    }\n",
       "\n",
       "    .dataframe thead th {\n",
       "        text-align: right;\n",
       "    }\n",
       "</style>\n",
       "<table border=\"1\" class=\"dataframe\">\n",
       "  <thead>\n",
       "    <tr style=\"text-align: right;\">\n",
       "      <th></th>\n",
       "      <th>Date</th>\n",
       "      <th>Open</th>\n",
       "      <th>High</th>\n",
       "      <th>Low</th>\n",
       "      <th>Close</th>\n",
       "      <th>Volume</th>\n",
       "      <th>OpenInt</th>\n",
       "      <th>Stock</th>\n",
       "    </tr>\n",
       "  </thead>\n",
       "  <tbody>\n",
       "    <tr>\n",
       "      <th>18804</th>\n",
       "      <td>2014-10-07</td>\n",
       "      <td>77.05</td>\n",
       "      <td>77.95</td>\n",
       "      <td>76.24</td>\n",
       "      <td>76.29</td>\n",
       "      <td>25290441</td>\n",
       "      <td>0</td>\n",
       "      <td>FB</td>\n",
       "    </tr>\n",
       "    <tr>\n",
       "      <th>18805</th>\n",
       "      <td>2014-10-08</td>\n",
       "      <td>76.18</td>\n",
       "      <td>77.71</td>\n",
       "      <td>75.10</td>\n",
       "      <td>77.52</td>\n",
       "      <td>32951966</td>\n",
       "      <td>0</td>\n",
       "      <td>FB</td>\n",
       "    </tr>\n",
       "    <tr>\n",
       "      <th>18806</th>\n",
       "      <td>2014-10-09</td>\n",
       "      <td>77.28</td>\n",
       "      <td>77.76</td>\n",
       "      <td>75.85</td>\n",
       "      <td>75.91</td>\n",
       "      <td>32464353</td>\n",
       "      <td>0</td>\n",
       "      <td>FB</td>\n",
       "    </tr>\n",
       "    <tr>\n",
       "      <th>18807</th>\n",
       "      <td>2014-10-10</td>\n",
       "      <td>75.59</td>\n",
       "      <td>76.50</td>\n",
       "      <td>72.76</td>\n",
       "      <td>72.91</td>\n",
       "      <td>52123628</td>\n",
       "      <td>0</td>\n",
       "      <td>FB</td>\n",
       "    </tr>\n",
       "    <tr>\n",
       "      <th>18808</th>\n",
       "      <td>2014-10-13</td>\n",
       "      <td>73.23</td>\n",
       "      <td>74.78</td>\n",
       "      <td>72.52</td>\n",
       "      <td>72.99</td>\n",
       "      <td>43912906</td>\n",
       "      <td>0</td>\n",
       "      <td>FB</td>\n",
       "    </tr>\n",
       "    <tr>\n",
       "      <th>18809</th>\n",
       "      <td>2014-10-14</td>\n",
       "      <td>74.00</td>\n",
       "      <td>74.18</td>\n",
       "      <td>72.05</td>\n",
       "      <td>73.59</td>\n",
       "      <td>50272600</td>\n",
       "      <td>0</td>\n",
       "      <td>FB</td>\n",
       "    </tr>\n",
       "    <tr>\n",
       "      <th>18810</th>\n",
       "      <td>2014-10-15</td>\n",
       "      <td>71.69</td>\n",
       "      <td>73.80</td>\n",
       "      <td>70.32</td>\n",
       "      <td>73.21</td>\n",
       "      <td>61470856</td>\n",
       "      <td>0</td>\n",
       "      <td>FB</td>\n",
       "    </tr>\n",
       "    <tr>\n",
       "      <th>18811</th>\n",
       "      <td>2014-10-16</td>\n",
       "      <td>70.79</td>\n",
       "      <td>73.35</td>\n",
       "      <td>70.58</td>\n",
       "      <td>72.63</td>\n",
       "      <td>53509985</td>\n",
       "      <td>0</td>\n",
       "      <td>FB</td>\n",
       "    </tr>\n",
       "    <tr>\n",
       "      <th>18812</th>\n",
       "      <td>2014-10-17</td>\n",
       "      <td>74.20</td>\n",
       "      <td>76.00</td>\n",
       "      <td>73.75</td>\n",
       "      <td>75.95</td>\n",
       "      <td>76326625</td>\n",
       "      <td>0</td>\n",
       "      <td>FB</td>\n",
       "    </tr>\n",
       "    <tr>\n",
       "      <th>18813</th>\n",
       "      <td>2014-10-20</td>\n",
       "      <td>75.60</td>\n",
       "      <td>77.09</td>\n",
       "      <td>75.38</td>\n",
       "      <td>76.95</td>\n",
       "      <td>34646147</td>\n",
       "      <td>0</td>\n",
       "      <td>FB</td>\n",
       "    </tr>\n",
       "    <tr>\n",
       "      <th>18814</th>\n",
       "      <td>2014-10-21</td>\n",
       "      <td>77.56</td>\n",
       "      <td>78.74</td>\n",
       "      <td>77.15</td>\n",
       "      <td>78.69</td>\n",
       "      <td>32224150</td>\n",
       "      <td>0</td>\n",
       "      <td>FB</td>\n",
       "    </tr>\n",
       "    <tr>\n",
       "      <th>18815</th>\n",
       "      <td>2014-10-22</td>\n",
       "      <td>78.82</td>\n",
       "      <td>79.85</td>\n",
       "      <td>78.01</td>\n",
       "      <td>78.37</td>\n",
       "      <td>41833409</td>\n",
       "      <td>0</td>\n",
       "      <td>FB</td>\n",
       "    </tr>\n",
       "    <tr>\n",
       "      <th>18816</th>\n",
       "      <td>2014-10-23</td>\n",
       "      <td>79.38</td>\n",
       "      <td>80.63</td>\n",
       "      <td>79.01</td>\n",
       "      <td>80.04</td>\n",
       "      <td>35012459</td>\n",
       "      <td>0</td>\n",
       "      <td>FB</td>\n",
       "    </tr>\n",
       "    <tr>\n",
       "      <th>18817</th>\n",
       "      <td>2014-10-24</td>\n",
       "      <td>80.20</td>\n",
       "      <td>80.82</td>\n",
       "      <td>79.32</td>\n",
       "      <td>80.67</td>\n",
       "      <td>32206264</td>\n",
       "      <td>0</td>\n",
       "      <td>FB</td>\n",
       "    </tr>\n",
       "    <tr>\n",
       "      <th>18818</th>\n",
       "      <td>2014-10-27</td>\n",
       "      <td>80.74</td>\n",
       "      <td>80.80</td>\n",
       "      <td>79.76</td>\n",
       "      <td>80.28</td>\n",
       "      <td>30168894</td>\n",
       "      <td>0</td>\n",
       "      <td>FB</td>\n",
       "    </tr>\n",
       "    <tr>\n",
       "      <th>18819</th>\n",
       "      <td>2014-10-28</td>\n",
       "      <td>80.18</td>\n",
       "      <td>81.16</td>\n",
       "      <td>79.57</td>\n",
       "      <td>80.77</td>\n",
       "      <td>74216225</td>\n",
       "      <td>0</td>\n",
       "      <td>FB</td>\n",
       "    </tr>\n",
       "    <tr>\n",
       "      <th>18820</th>\n",
       "      <td>2014-10-29</td>\n",
       "      <td>75.45</td>\n",
       "      <td>76.88</td>\n",
       "      <td>74.78</td>\n",
       "      <td>75.86</td>\n",
       "      <td>106119525</td>\n",
       "      <td>0</td>\n",
       "      <td>FB</td>\n",
       "    </tr>\n",
       "    <tr>\n",
       "      <th>18821</th>\n",
       "      <td>2014-10-30</td>\n",
       "      <td>75.05</td>\n",
       "      <td>75.35</td>\n",
       "      <td>72.90</td>\n",
       "      <td>74.11</td>\n",
       "      <td>83269562</td>\n",
       "      <td>0</td>\n",
       "      <td>FB</td>\n",
       "    </tr>\n",
       "    <tr>\n",
       "      <th>18822</th>\n",
       "      <td>2014-10-31</td>\n",
       "      <td>74.93</td>\n",
       "      <td>75.70</td>\n",
       "      <td>74.45</td>\n",
       "      <td>74.99</td>\n",
       "      <td>44544322</td>\n",
       "      <td>0</td>\n",
       "      <td>FB</td>\n",
       "    </tr>\n",
       "    <tr>\n",
       "      <th>18823</th>\n",
       "      <td>2014-11-03</td>\n",
       "      <td>75.47</td>\n",
       "      <td>75.52</td>\n",
       "      <td>73.70</td>\n",
       "      <td>73.88</td>\n",
       "      <td>40637881</td>\n",
       "      <td>0</td>\n",
       "      <td>FB</td>\n",
       "    </tr>\n",
       "    <tr>\n",
       "      <th>18824</th>\n",
       "      <td>2014-11-04</td>\n",
       "      <td>74.23</td>\n",
       "      <td>75.77</td>\n",
       "      <td>73.65</td>\n",
       "      <td>75.76</td>\n",
       "      <td>39285075</td>\n",
       "      <td>0</td>\n",
       "      <td>FB</td>\n",
       "    </tr>\n",
       "    <tr>\n",
       "      <th>18825</th>\n",
       "      <td>2014-11-05</td>\n",
       "      <td>76.51</td>\n",
       "      <td>76.80</td>\n",
       "      <td>74.42</td>\n",
       "      <td>74.83</td>\n",
       "      <td>35888337</td>\n",
       "      <td>0</td>\n",
       "      <td>FB</td>\n",
       "    </tr>\n",
       "    <tr>\n",
       "      <th>18826</th>\n",
       "      <td>2014-11-06</td>\n",
       "      <td>74.89</td>\n",
       "      <td>75.60</td>\n",
       "      <td>74.31</td>\n",
       "      <td>75.26</td>\n",
       "      <td>21354594</td>\n",
       "      <td>0</td>\n",
       "      <td>FB</td>\n",
       "    </tr>\n",
       "    <tr>\n",
       "      <th>18827</th>\n",
       "      <td>2014-11-07</td>\n",
       "      <td>75.39</td>\n",
       "      <td>75.86</td>\n",
       "      <td>75.02</td>\n",
       "      <td>75.60</td>\n",
       "      <td>20764676</td>\n",
       "      <td>0</td>\n",
       "      <td>FB</td>\n",
       "    </tr>\n",
       "    <tr>\n",
       "      <th>18828</th>\n",
       "      <td>2014-11-10</td>\n",
       "      <td>75.41</td>\n",
       "      <td>75.48</td>\n",
       "      <td>74.61</td>\n",
       "      <td>75.00</td>\n",
       "      <td>21564366</td>\n",
       "      <td>0</td>\n",
       "      <td>FB</td>\n",
       "    </tr>\n",
       "    <tr>\n",
       "      <th>18829</th>\n",
       "      <td>2014-11-11</td>\n",
       "      <td>74.91</td>\n",
       "      <td>74.98</td>\n",
       "      <td>74.03</td>\n",
       "      <td>74.61</td>\n",
       "      <td>18722170</td>\n",
       "      <td>0</td>\n",
       "      <td>FB</td>\n",
       "    </tr>\n",
       "    <tr>\n",
       "      <th>18830</th>\n",
       "      <td>2014-11-12</td>\n",
       "      <td>74.28</td>\n",
       "      <td>75.14</td>\n",
       "      <td>73.54</td>\n",
       "      <td>74.72</td>\n",
       "      <td>26525606</td>\n",
       "      <td>0</td>\n",
       "      <td>FB</td>\n",
       "    </tr>\n",
       "    <tr>\n",
       "      <th>18831</th>\n",
       "      <td>2014-11-13</td>\n",
       "      <td>74.74</td>\n",
       "      <td>75.24</td>\n",
       "      <td>73.64</td>\n",
       "      <td>74.25</td>\n",
       "      <td>26438000</td>\n",
       "      <td>0</td>\n",
       "      <td>FB</td>\n",
       "    </tr>\n",
       "    <tr>\n",
       "      <th>18832</th>\n",
       "      <td>2014-11-14</td>\n",
       "      <td>74.27</td>\n",
       "      <td>74.93</td>\n",
       "      <td>74.04</td>\n",
       "      <td>74.88</td>\n",
       "      <td>19461162</td>\n",
       "      <td>0</td>\n",
       "      <td>FB</td>\n",
       "    </tr>\n",
       "    <tr>\n",
       "      <th>18833</th>\n",
       "      <td>2014-11-17</td>\n",
       "      <td>74.89</td>\n",
       "      <td>75.65</td>\n",
       "      <td>73.88</td>\n",
       "      <td>74.24</td>\n",
       "      <td>28688375</td>\n",
       "      <td>0</td>\n",
       "      <td>FB</td>\n",
       "    </tr>\n",
       "    <tr>\n",
       "      <th>18834</th>\n",
       "      <td>2014-11-18</td>\n",
       "      <td>74.45</td>\n",
       "      <td>74.80</td>\n",
       "      <td>73.90</td>\n",
       "      <td>74.34</td>\n",
       "      <td>20691267</td>\n",
       "      <td>0</td>\n",
       "      <td>FB</td>\n",
       "    </tr>\n",
       "    <tr>\n",
       "      <th>18835</th>\n",
       "      <td>2014-11-19</td>\n",
       "      <td>74.01</td>\n",
       "      <td>74.54</td>\n",
       "      <td>73.11</td>\n",
       "      <td>73.33</td>\n",
       "      <td>25420839</td>\n",
       "      <td>0</td>\n",
       "      <td>FB</td>\n",
       "    </tr>\n",
       "    <tr>\n",
       "      <th>18836</th>\n",
       "      <td>2014-11-20</td>\n",
       "      <td>72.80</td>\n",
       "      <td>73.99</td>\n",
       "      <td>72.51</td>\n",
       "      <td>73.60</td>\n",
       "      <td>19144425</td>\n",
       "      <td>0</td>\n",
       "      <td>FB</td>\n",
       "    </tr>\n",
       "    <tr>\n",
       "      <th>18837</th>\n",
       "      <td>2014-11-21</td>\n",
       "      <td>74.50</td>\n",
       "      <td>74.50</td>\n",
       "      <td>73.50</td>\n",
       "      <td>73.75</td>\n",
       "      <td>23055459</td>\n",
       "      <td>0</td>\n",
       "      <td>FB</td>\n",
       "    </tr>\n",
       "    <tr>\n",
       "      <th>18838</th>\n",
       "      <td>2014-11-24</td>\n",
       "      <td>73.54</td>\n",
       "      <td>74.35</td>\n",
       "      <td>73.35</td>\n",
       "      <td>74.01</td>\n",
       "      <td>22091217</td>\n",
       "      <td>0</td>\n",
       "      <td>FB</td>\n",
       "    </tr>\n",
       "    <tr>\n",
       "      <th>18839</th>\n",
       "      <td>2014-11-25</td>\n",
       "      <td>74.21</td>\n",
       "      <td>75.74</td>\n",
       "      <td>74.13</td>\n",
       "      <td>75.63</td>\n",
       "      <td>32238134</td>\n",
       "      <td>0</td>\n",
       "      <td>FB</td>\n",
       "    </tr>\n",
       "    <tr>\n",
       "      <th>18840</th>\n",
       "      <td>2014-11-26</td>\n",
       "      <td>75.53</td>\n",
       "      <td>77.78</td>\n",
       "      <td>75.51</td>\n",
       "      <td>77.62</td>\n",
       "      <td>32711075</td>\n",
       "      <td>0</td>\n",
       "      <td>FB</td>\n",
       "    </tr>\n",
       "    <tr>\n",
       "      <th>18841</th>\n",
       "      <td>2014-11-28</td>\n",
       "      <td>77.75</td>\n",
       "      <td>78.27</td>\n",
       "      <td>77.23</td>\n",
       "      <td>77.70</td>\n",
       "      <td>15992035</td>\n",
       "      <td>0</td>\n",
       "      <td>FB</td>\n",
       "    </tr>\n",
       "    <tr>\n",
       "      <th>18842</th>\n",
       "      <td>2014-12-01</td>\n",
       "      <td>77.16</td>\n",
       "      <td>77.31</td>\n",
       "      <td>74.80</td>\n",
       "      <td>75.10</td>\n",
       "      <td>31768562</td>\n",
       "      <td>0</td>\n",
       "      <td>FB</td>\n",
       "    </tr>\n",
       "    <tr>\n",
       "      <th>18843</th>\n",
       "      <td>2014-12-02</td>\n",
       "      <td>75.33</td>\n",
       "      <td>75.91</td>\n",
       "      <td>75.04</td>\n",
       "      <td>75.46</td>\n",
       "      <td>16765477</td>\n",
       "      <td>0</td>\n",
       "      <td>FB</td>\n",
       "    </tr>\n",
       "    <tr>\n",
       "      <th>18844</th>\n",
       "      <td>2014-12-03</td>\n",
       "      <td>75.38</td>\n",
       "      <td>75.73</td>\n",
       "      <td>74.40</td>\n",
       "      <td>74.88</td>\n",
       "      <td>16682311</td>\n",
       "      <td>0</td>\n",
       "      <td>FB</td>\n",
       "    </tr>\n",
       "    <tr>\n",
       "      <th>18845</th>\n",
       "      <td>2014-12-04</td>\n",
       "      <td>74.83</td>\n",
       "      <td>75.55</td>\n",
       "      <td>74.66</td>\n",
       "      <td>75.24</td>\n",
       "      <td>14384577</td>\n",
       "      <td>0</td>\n",
       "      <td>FB</td>\n",
       "    </tr>\n",
       "    <tr>\n",
       "      <th>18846</th>\n",
       "      <td>2014-12-05</td>\n",
       "      <td>75.80</td>\n",
       "      <td>76.76</td>\n",
       "      <td>75.36</td>\n",
       "      <td>76.36</td>\n",
       "      <td>24289839</td>\n",
       "      <td>0</td>\n",
       "      <td>FB</td>\n",
       "    </tr>\n",
       "    <tr>\n",
       "      <th>18847</th>\n",
       "      <td>2014-12-08</td>\n",
       "      <td>76.18</td>\n",
       "      <td>77.25</td>\n",
       "      <td>75.40</td>\n",
       "      <td>76.52</td>\n",
       "      <td>25727714</td>\n",
       "      <td>0</td>\n",
       "      <td>FB</td>\n",
       "    </tr>\n",
       "    <tr>\n",
       "      <th>18848</th>\n",
       "      <td>2014-12-09</td>\n",
       "      <td>75.20</td>\n",
       "      <td>76.93</td>\n",
       "      <td>74.78</td>\n",
       "      <td>76.84</td>\n",
       "      <td>25338366</td>\n",
       "      <td>0</td>\n",
       "      <td>FB</td>\n",
       "    </tr>\n",
       "    <tr>\n",
       "      <th>18849</th>\n",
       "      <td>2014-12-10</td>\n",
       "      <td>76.65</td>\n",
       "      <td>77.55</td>\n",
       "      <td>76.07</td>\n",
       "      <td>76.18</td>\n",
       "      <td>32185228</td>\n",
       "      <td>0</td>\n",
       "      <td>FB</td>\n",
       "    </tr>\n",
       "    <tr>\n",
       "      <th>18850</th>\n",
       "      <td>2014-12-11</td>\n",
       "      <td>76.52</td>\n",
       "      <td>78.52</td>\n",
       "      <td>76.48</td>\n",
       "      <td>77.73</td>\n",
       "      <td>33482156</td>\n",
       "      <td>0</td>\n",
       "      <td>FB</td>\n",
       "    </tr>\n",
       "    <tr>\n",
       "      <th>18851</th>\n",
       "      <td>2014-12-12</td>\n",
       "      <td>77.16</td>\n",
       "      <td>78.88</td>\n",
       "      <td>77.02</td>\n",
       "      <td>77.83</td>\n",
       "      <td>28081298</td>\n",
       "      <td>0</td>\n",
       "      <td>FB</td>\n",
       "    </tr>\n",
       "    <tr>\n",
       "      <th>18852</th>\n",
       "      <td>2014-12-15</td>\n",
       "      <td>78.46</td>\n",
       "      <td>78.58</td>\n",
       "      <td>76.56</td>\n",
       "      <td>76.99</td>\n",
       "      <td>29378162</td>\n",
       "      <td>0</td>\n",
       "      <td>FB</td>\n",
       "    </tr>\n",
       "    <tr>\n",
       "      <th>18853</th>\n",
       "      <td>2014-12-16</td>\n",
       "      <td>76.18</td>\n",
       "      <td>77.39</td>\n",
       "      <td>74.59</td>\n",
       "      <td>74.69</td>\n",
       "      <td>31481153</td>\n",
       "      <td>0</td>\n",
       "      <td>FB</td>\n",
       "    </tr>\n",
       "    <tr>\n",
       "      <th>18854</th>\n",
       "      <td>2014-12-17</td>\n",
       "      <td>75.01</td>\n",
       "      <td>76.41</td>\n",
       "      <td>74.90</td>\n",
       "      <td>76.11</td>\n",
       "      <td>29187925</td>\n",
       "      <td>0</td>\n",
       "      <td>FB</td>\n",
       "    </tr>\n",
       "    <tr>\n",
       "      <th>18855</th>\n",
       "      <td>2014-12-18</td>\n",
       "      <td>76.89</td>\n",
       "      <td>78.40</td>\n",
       "      <td>76.51</td>\n",
       "      <td>78.40</td>\n",
       "      <td>34191056</td>\n",
       "      <td>0</td>\n",
       "      <td>FB</td>\n",
       "    </tr>\n",
       "    <tr>\n",
       "      <th>18856</th>\n",
       "      <td>2014-12-19</td>\n",
       "      <td>78.75</td>\n",
       "      <td>80.00</td>\n",
       "      <td>78.33</td>\n",
       "      <td>79.88</td>\n",
       "      <td>43309759</td>\n",
       "      <td>0</td>\n",
       "      <td>FB</td>\n",
       "    </tr>\n",
       "    <tr>\n",
       "      <th>18857</th>\n",
       "      <td>2014-12-22</td>\n",
       "      <td>80.08</td>\n",
       "      <td>81.89</td>\n",
       "      <td>80.00</td>\n",
       "      <td>81.45</td>\n",
       "      <td>31382753</td>\n",
       "      <td>0</td>\n",
       "      <td>FB</td>\n",
       "    </tr>\n",
       "    <tr>\n",
       "      <th>18858</th>\n",
       "      <td>2014-12-23</td>\n",
       "      <td>82.00</td>\n",
       "      <td>82.17</td>\n",
       "      <td>80.40</td>\n",
       "      <td>80.61</td>\n",
       "      <td>19855246</td>\n",
       "      <td>0</td>\n",
       "      <td>FB</td>\n",
       "    </tr>\n",
       "    <tr>\n",
       "      <th>18859</th>\n",
       "      <td>2014-12-24</td>\n",
       "      <td>81.03</td>\n",
       "      <td>81.43</td>\n",
       "      <td>80.75</td>\n",
       "      <td>80.77</td>\n",
       "      <td>7685480</td>\n",
       "      <td>0</td>\n",
       "      <td>FB</td>\n",
       "    </tr>\n",
       "    <tr>\n",
       "      <th>18860</th>\n",
       "      <td>2014-12-26</td>\n",
       "      <td>81.02</td>\n",
       "      <td>81.28</td>\n",
       "      <td>80.51</td>\n",
       "      <td>80.78</td>\n",
       "      <td>10642442</td>\n",
       "      <td>0</td>\n",
       "      <td>FB</td>\n",
       "    </tr>\n",
       "    <tr>\n",
       "      <th>18861</th>\n",
       "      <td>2014-12-29</td>\n",
       "      <td>80.49</td>\n",
       "      <td>80.96</td>\n",
       "      <td>79.71</td>\n",
       "      <td>80.02</td>\n",
       "      <td>14123244</td>\n",
       "      <td>0</td>\n",
       "      <td>FB</td>\n",
       "    </tr>\n",
       "    <tr>\n",
       "      <th>18862</th>\n",
       "      <td>2014-12-30</td>\n",
       "      <td>79.85</td>\n",
       "      <td>80.59</td>\n",
       "      <td>79.10</td>\n",
       "      <td>79.22</td>\n",
       "      <td>14367669</td>\n",
       "      <td>0</td>\n",
       "      <td>FB</td>\n",
       "    </tr>\n",
       "    <tr>\n",
       "      <th>18863</th>\n",
       "      <td>2014-12-31</td>\n",
       "      <td>79.53</td>\n",
       "      <td>79.80</td>\n",
       "      <td>77.86</td>\n",
       "      <td>78.02</td>\n",
       "      <td>20035308</td>\n",
       "      <td>0</td>\n",
       "      <td>FB</td>\n",
       "    </tr>\n",
       "  </tbody>\n",
       "</table>\n",
       "</div>"
      ],
      "text/plain": [
       "            Date   Open   High    Low  Close     Volume  OpenInt Stock\n",
       "18804 2014-10-07  77.05  77.95  76.24  76.29   25290441        0    FB\n",
       "18805 2014-10-08  76.18  77.71  75.10  77.52   32951966        0    FB\n",
       "18806 2014-10-09  77.28  77.76  75.85  75.91   32464353        0    FB\n",
       "18807 2014-10-10  75.59  76.50  72.76  72.91   52123628        0    FB\n",
       "18808 2014-10-13  73.23  74.78  72.52  72.99   43912906        0    FB\n",
       "18809 2014-10-14  74.00  74.18  72.05  73.59   50272600        0    FB\n",
       "18810 2014-10-15  71.69  73.80  70.32  73.21   61470856        0    FB\n",
       "18811 2014-10-16  70.79  73.35  70.58  72.63   53509985        0    FB\n",
       "18812 2014-10-17  74.20  76.00  73.75  75.95   76326625        0    FB\n",
       "18813 2014-10-20  75.60  77.09  75.38  76.95   34646147        0    FB\n",
       "18814 2014-10-21  77.56  78.74  77.15  78.69   32224150        0    FB\n",
       "18815 2014-10-22  78.82  79.85  78.01  78.37   41833409        0    FB\n",
       "18816 2014-10-23  79.38  80.63  79.01  80.04   35012459        0    FB\n",
       "18817 2014-10-24  80.20  80.82  79.32  80.67   32206264        0    FB\n",
       "18818 2014-10-27  80.74  80.80  79.76  80.28   30168894        0    FB\n",
       "18819 2014-10-28  80.18  81.16  79.57  80.77   74216225        0    FB\n",
       "18820 2014-10-29  75.45  76.88  74.78  75.86  106119525        0    FB\n",
       "18821 2014-10-30  75.05  75.35  72.90  74.11   83269562        0    FB\n",
       "18822 2014-10-31  74.93  75.70  74.45  74.99   44544322        0    FB\n",
       "18823 2014-11-03  75.47  75.52  73.70  73.88   40637881        0    FB\n",
       "18824 2014-11-04  74.23  75.77  73.65  75.76   39285075        0    FB\n",
       "18825 2014-11-05  76.51  76.80  74.42  74.83   35888337        0    FB\n",
       "18826 2014-11-06  74.89  75.60  74.31  75.26   21354594        0    FB\n",
       "18827 2014-11-07  75.39  75.86  75.02  75.60   20764676        0    FB\n",
       "18828 2014-11-10  75.41  75.48  74.61  75.00   21564366        0    FB\n",
       "18829 2014-11-11  74.91  74.98  74.03  74.61   18722170        0    FB\n",
       "18830 2014-11-12  74.28  75.14  73.54  74.72   26525606        0    FB\n",
       "18831 2014-11-13  74.74  75.24  73.64  74.25   26438000        0    FB\n",
       "18832 2014-11-14  74.27  74.93  74.04  74.88   19461162        0    FB\n",
       "18833 2014-11-17  74.89  75.65  73.88  74.24   28688375        0    FB\n",
       "18834 2014-11-18  74.45  74.80  73.90  74.34   20691267        0    FB\n",
       "18835 2014-11-19  74.01  74.54  73.11  73.33   25420839        0    FB\n",
       "18836 2014-11-20  72.80  73.99  72.51  73.60   19144425        0    FB\n",
       "18837 2014-11-21  74.50  74.50  73.50  73.75   23055459        0    FB\n",
       "18838 2014-11-24  73.54  74.35  73.35  74.01   22091217        0    FB\n",
       "18839 2014-11-25  74.21  75.74  74.13  75.63   32238134        0    FB\n",
       "18840 2014-11-26  75.53  77.78  75.51  77.62   32711075        0    FB\n",
       "18841 2014-11-28  77.75  78.27  77.23  77.70   15992035        0    FB\n",
       "18842 2014-12-01  77.16  77.31  74.80  75.10   31768562        0    FB\n",
       "18843 2014-12-02  75.33  75.91  75.04  75.46   16765477        0    FB\n",
       "18844 2014-12-03  75.38  75.73  74.40  74.88   16682311        0    FB\n",
       "18845 2014-12-04  74.83  75.55  74.66  75.24   14384577        0    FB\n",
       "18846 2014-12-05  75.80  76.76  75.36  76.36   24289839        0    FB\n",
       "18847 2014-12-08  76.18  77.25  75.40  76.52   25727714        0    FB\n",
       "18848 2014-12-09  75.20  76.93  74.78  76.84   25338366        0    FB\n",
       "18849 2014-12-10  76.65  77.55  76.07  76.18   32185228        0    FB\n",
       "18850 2014-12-11  76.52  78.52  76.48  77.73   33482156        0    FB\n",
       "18851 2014-12-12  77.16  78.88  77.02  77.83   28081298        0    FB\n",
       "18852 2014-12-15  78.46  78.58  76.56  76.99   29378162        0    FB\n",
       "18853 2014-12-16  76.18  77.39  74.59  74.69   31481153        0    FB\n",
       "18854 2014-12-17  75.01  76.41  74.90  76.11   29187925        0    FB\n",
       "18855 2014-12-18  76.89  78.40  76.51  78.40   34191056        0    FB\n",
       "18856 2014-12-19  78.75  80.00  78.33  79.88   43309759        0    FB\n",
       "18857 2014-12-22  80.08  81.89  80.00  81.45   31382753        0    FB\n",
       "18858 2014-12-23  82.00  82.17  80.40  80.61   19855246        0    FB\n",
       "18859 2014-12-24  81.03  81.43  80.75  80.77    7685480        0    FB\n",
       "18860 2014-12-26  81.02  81.28  80.51  80.78   10642442        0    FB\n",
       "18861 2014-12-29  80.49  80.96  79.71  80.02   14123244        0    FB\n",
       "18862 2014-12-30  79.85  80.59  79.10  79.22   14367669        0    FB\n",
       "18863 2014-12-31  79.53  79.80  77.86  78.02   20035308        0    FB"
      ]
     },
     "execution_count": 78,
     "metadata": {
      "tags": []
     },
     "output_type": "execute_result"
    }
   ],
   "source": [
    "data_training.tail(60)"
   ]
  },
  {
   "cell_type": "code",
   "execution_count": null,
   "metadata": {
    "id": "mYojZP8YQSi8"
   },
   "outputs": [],
   "source": [
    "past_60_days=data_training.tail(60)"
   ]
  },
  {
   "cell_type": "code",
   "execution_count": null,
   "metadata": {
    "colab": {
     "base_uri": "https://localhost:8080/",
     "height": 419
    },
    "id": "NPy1Ewv7QVpe",
    "outputId": "92d60c90-0ef5-417c-d2a8-cff977517e83"
   },
   "outputs": [
    {
     "data": {
      "text/html": [
       "<div>\n",
       "<style scoped>\n",
       "    .dataframe tbody tr th:only-of-type {\n",
       "        vertical-align: middle;\n",
       "    }\n",
       "\n",
       "    .dataframe tbody tr th {\n",
       "        vertical-align: top;\n",
       "    }\n",
       "\n",
       "    .dataframe thead th {\n",
       "        text-align: right;\n",
       "    }\n",
       "</style>\n",
       "<table border=\"1\" class=\"dataframe\">\n",
       "  <thead>\n",
       "    <tr style=\"text-align: right;\">\n",
       "      <th></th>\n",
       "      <th>Date</th>\n",
       "      <th>Open</th>\n",
       "      <th>High</th>\n",
       "      <th>Low</th>\n",
       "      <th>Close</th>\n",
       "      <th>Volume</th>\n",
       "      <th>OpenInt</th>\n",
       "      <th>Stock</th>\n",
       "    </tr>\n",
       "  </thead>\n",
       "  <tbody>\n",
       "    <tr>\n",
       "      <th>0</th>\n",
       "      <td>2014-10-07</td>\n",
       "      <td>77.05</td>\n",
       "      <td>77.950</td>\n",
       "      <td>76.240</td>\n",
       "      <td>76.29</td>\n",
       "      <td>25290441</td>\n",
       "      <td>0</td>\n",
       "      <td>FB</td>\n",
       "    </tr>\n",
       "    <tr>\n",
       "      <th>1</th>\n",
       "      <td>2014-10-08</td>\n",
       "      <td>76.18</td>\n",
       "      <td>77.710</td>\n",
       "      <td>75.100</td>\n",
       "      <td>77.52</td>\n",
       "      <td>32951966</td>\n",
       "      <td>0</td>\n",
       "      <td>FB</td>\n",
       "    </tr>\n",
       "    <tr>\n",
       "      <th>2</th>\n",
       "      <td>2014-10-09</td>\n",
       "      <td>77.28</td>\n",
       "      <td>77.760</td>\n",
       "      <td>75.850</td>\n",
       "      <td>75.91</td>\n",
       "      <td>32464353</td>\n",
       "      <td>0</td>\n",
       "      <td>FB</td>\n",
       "    </tr>\n",
       "    <tr>\n",
       "      <th>3</th>\n",
       "      <td>2014-10-10</td>\n",
       "      <td>75.59</td>\n",
       "      <td>76.500</td>\n",
       "      <td>72.760</td>\n",
       "      <td>72.91</td>\n",
       "      <td>52123628</td>\n",
       "      <td>0</td>\n",
       "      <td>FB</td>\n",
       "    </tr>\n",
       "    <tr>\n",
       "      <th>4</th>\n",
       "      <td>2014-10-13</td>\n",
       "      <td>73.23</td>\n",
       "      <td>74.780</td>\n",
       "      <td>72.520</td>\n",
       "      <td>72.99</td>\n",
       "      <td>43912906</td>\n",
       "      <td>0</td>\n",
       "      <td>FB</td>\n",
       "    </tr>\n",
       "    <tr>\n",
       "      <th>...</th>\n",
       "      <td>...</td>\n",
       "      <td>...</td>\n",
       "      <td>...</td>\n",
       "      <td>...</td>\n",
       "      <td>...</td>\n",
       "      <td>...</td>\n",
       "      <td>...</td>\n",
       "      <td>...</td>\n",
       "    </tr>\n",
       "    <tr>\n",
       "      <th>2943</th>\n",
       "      <td>2017-11-06</td>\n",
       "      <td>178.56</td>\n",
       "      <td>180.450</td>\n",
       "      <td>178.310</td>\n",
       "      <td>180.17</td>\n",
       "      <td>13275578</td>\n",
       "      <td>0</td>\n",
       "      <td>FB</td>\n",
       "    </tr>\n",
       "    <tr>\n",
       "      <th>2944</th>\n",
       "      <td>2017-11-07</td>\n",
       "      <td>180.50</td>\n",
       "      <td>180.748</td>\n",
       "      <td>179.403</td>\n",
       "      <td>180.25</td>\n",
       "      <td>12903836</td>\n",
       "      <td>0</td>\n",
       "      <td>FB</td>\n",
       "    </tr>\n",
       "    <tr>\n",
       "      <th>2945</th>\n",
       "      <td>2017-11-08</td>\n",
       "      <td>179.79</td>\n",
       "      <td>180.350</td>\n",
       "      <td>179.110</td>\n",
       "      <td>179.56</td>\n",
       "      <td>10467606</td>\n",
       "      <td>0</td>\n",
       "      <td>FB</td>\n",
       "    </tr>\n",
       "    <tr>\n",
       "      <th>2946</th>\n",
       "      <td>2017-11-09</td>\n",
       "      <td>178.31</td>\n",
       "      <td>179.400</td>\n",
       "      <td>177.090</td>\n",
       "      <td>179.30</td>\n",
       "      <td>12602188</td>\n",
       "      <td>0</td>\n",
       "      <td>FB</td>\n",
       "    </tr>\n",
       "    <tr>\n",
       "      <th>2947</th>\n",
       "      <td>2017-11-10</td>\n",
       "      <td>178.35</td>\n",
       "      <td>179.100</td>\n",
       "      <td>177.960</td>\n",
       "      <td>178.46</td>\n",
       "      <td>11060355</td>\n",
       "      <td>0</td>\n",
       "      <td>FB</td>\n",
       "    </tr>\n",
       "  </tbody>\n",
       "</table>\n",
       "<p>2948 rows × 8 columns</p>\n",
       "</div>"
      ],
      "text/plain": [
       "           Date    Open     High      Low   Close    Volume  OpenInt Stock\n",
       "0    2014-10-07   77.05   77.950   76.240   76.29  25290441        0    FB\n",
       "1    2014-10-08   76.18   77.710   75.100   77.52  32951966        0    FB\n",
       "2    2014-10-09   77.28   77.760   75.850   75.91  32464353        0    FB\n",
       "3    2014-10-10   75.59   76.500   72.760   72.91  52123628        0    FB\n",
       "4    2014-10-13   73.23   74.780   72.520   72.99  43912906        0    FB\n",
       "...         ...     ...      ...      ...     ...       ...      ...   ...\n",
       "2943 2017-11-06  178.56  180.450  178.310  180.17  13275578        0    FB\n",
       "2944 2017-11-07  180.50  180.748  179.403  180.25  12903836        0    FB\n",
       "2945 2017-11-08  179.79  180.350  179.110  179.56  10467606        0    FB\n",
       "2946 2017-11-09  178.31  179.400  177.090  179.30  12602188        0    FB\n",
       "2947 2017-11-10  178.35  179.100  177.960  178.46  11060355        0    FB\n",
       "\n",
       "[2948 rows x 8 columns]"
      ]
     },
     "execution_count": 80,
     "metadata": {
      "tags": []
     },
     "output_type": "execute_result"
    }
   ],
   "source": [
    "df1=past_60_days.append(data_testing,ignore_index=True)\n",
    "df1"
   ]
  },
  {
   "cell_type": "code",
   "execution_count": null,
   "metadata": {
    "colab": {
     "base_uri": "https://localhost:8080/",
     "height": 204
    },
    "id": "X4kq6QeORNGq",
    "outputId": "a501fdb3-aef6-4a64-c1d9-90ca5a5a76af"
   },
   "outputs": [
    {
     "data": {
      "text/html": [
       "<div>\n",
       "<style scoped>\n",
       "    .dataframe tbody tr th:only-of-type {\n",
       "        vertical-align: middle;\n",
       "    }\n",
       "\n",
       "    .dataframe tbody tr th {\n",
       "        vertical-align: top;\n",
       "    }\n",
       "\n",
       "    .dataframe thead th {\n",
       "        text-align: right;\n",
       "    }\n",
       "</style>\n",
       "<table border=\"1\" class=\"dataframe\">\n",
       "  <thead>\n",
       "    <tr style=\"text-align: right;\">\n",
       "      <th></th>\n",
       "      <th>Open</th>\n",
       "      <th>High</th>\n",
       "      <th>Low</th>\n",
       "      <th>Close</th>\n",
       "      <th>Volume</th>\n",
       "    </tr>\n",
       "  </thead>\n",
       "  <tbody>\n",
       "    <tr>\n",
       "      <th>0</th>\n",
       "      <td>77.05</td>\n",
       "      <td>77.95</td>\n",
       "      <td>76.24</td>\n",
       "      <td>76.29</td>\n",
       "      <td>25290441</td>\n",
       "    </tr>\n",
       "    <tr>\n",
       "      <th>1</th>\n",
       "      <td>76.18</td>\n",
       "      <td>77.71</td>\n",
       "      <td>75.10</td>\n",
       "      <td>77.52</td>\n",
       "      <td>32951966</td>\n",
       "    </tr>\n",
       "    <tr>\n",
       "      <th>2</th>\n",
       "      <td>77.28</td>\n",
       "      <td>77.76</td>\n",
       "      <td>75.85</td>\n",
       "      <td>75.91</td>\n",
       "      <td>32464353</td>\n",
       "    </tr>\n",
       "    <tr>\n",
       "      <th>3</th>\n",
       "      <td>75.59</td>\n",
       "      <td>76.50</td>\n",
       "      <td>72.76</td>\n",
       "      <td>72.91</td>\n",
       "      <td>52123628</td>\n",
       "    </tr>\n",
       "    <tr>\n",
       "      <th>4</th>\n",
       "      <td>73.23</td>\n",
       "      <td>74.78</td>\n",
       "      <td>72.52</td>\n",
       "      <td>72.99</td>\n",
       "      <td>43912906</td>\n",
       "    </tr>\n",
       "  </tbody>\n",
       "</table>\n",
       "</div>"
      ],
      "text/plain": [
       "    Open   High    Low  Close    Volume\n",
       "0  77.05  77.95  76.24  76.29  25290441\n",
       "1  76.18  77.71  75.10  77.52  32951966\n",
       "2  77.28  77.76  75.85  75.91  32464353\n",
       "3  75.59  76.50  72.76  72.91  52123628\n",
       "4  73.23  74.78  72.52  72.99  43912906"
      ]
     },
     "execution_count": 81,
     "metadata": {
      "tags": []
     },
     "output_type": "execute_result"
    }
   ],
   "source": [
    "df1=df1.drop(['Date','OpenInt',\t'Stock'], axis=1)\n",
    "df1.head()"
   ]
  },
  {
   "cell_type": "code",
   "execution_count": null,
   "metadata": {
    "colab": {
     "base_uri": "https://localhost:8080/"
    },
    "id": "P77LNSGXRPGq",
    "outputId": "c7bb6c7a-9f90-4911-c74e-21b6b625f28b"
   },
   "outputs": [
    {
     "data": {
      "text/plain": [
       "array([[0.26767055, 0.2673144 , 0.27172275, 0.26653864, 0.01221896],\n",
       "       [0.26464555, 0.26649066, 0.26765616, 0.27083974, 0.01592059],\n",
       "       [0.26847027, 0.26666227, 0.27033155, 0.26520984, 0.01568501],\n",
       "       ...,\n",
       "       [0.62489934, 0.61877833, 0.63867946, 0.6276569 , 0.00505738],\n",
       "       [0.61975335, 0.61551768, 0.63147373, 0.62674772, 0.00608869],\n",
       "       [0.61989243, 0.614488  , 0.63457719, 0.62381038, 0.00534376]])"
      ]
     },
     "execution_count": 82,
     "metadata": {
      "tags": []
     },
     "output_type": "execute_result"
    }
   ],
   "source": [
    "inputs=scaler.transform(df1)\n",
    "inputs"
   ]
  },
  {
   "cell_type": "code",
   "execution_count": null,
   "metadata": {
    "id": "vVh1Ev0DNIru"
   },
   "outputs": [],
   "source": [
    "#Test data preparation for model prediction "
   ]
  },
  {
   "cell_type": "code",
   "execution_count": null,
   "metadata": {
    "id": "LGsyY078RRqm"
   },
   "outputs": [],
   "source": [
    "X_test=[]\n",
    "y_test=[]\n",
    "\n",
    "for i in range(60, inputs.shape[0]):\n",
    "  X_test.append(inputs[i-60:i])\n",
    "  y_test.append(inputs[i,3])"
   ]
  },
  {
   "cell_type": "code",
   "execution_count": null,
   "metadata": {
    "colab": {
     "base_uri": "https://localhost:8080/"
    },
    "id": "ZnPeToCXRi2l",
    "outputId": "96103a42-457c-4e1b-a017-d201e7cb1516"
   },
   "outputs": [
    {
     "data": {
      "text/plain": [
       "0.3616875451091852"
      ]
     },
     "execution_count": 84,
     "metadata": {
      "tags": []
     },
     "output_type": "execute_result"
    }
   ],
   "source": [
    "inputs[60,3]"
   ]
  },
  {
   "cell_type": "code",
   "execution_count": null,
   "metadata": {
    "colab": {
     "base_uri": "https://localhost:8080/"
    },
    "id": "_m9Vr9mVRo6T",
    "outputId": "e93febac-5c1c-4bf9-d6f3-418dd81ce1c6"
   },
   "outputs": [
    {
     "data": {
      "text/plain": [
       "((2888, 60, 5), (2888,))"
      ]
     },
     "execution_count": 85,
     "metadata": {
      "tags": []
     },
     "output_type": "execute_result"
    }
   ],
   "source": [
    "X_test, y_test = np.array(X_test), np.array(y_test)\n",
    "X_test.shape, y_test.shape"
   ]
  },
  {
   "cell_type": "code",
   "execution_count": null,
   "metadata": {
    "id": "EbCQA-_wNQKO"
   },
   "outputs": [],
   "source": [
    "#Model prediction using test data"
   ]
  },
  {
   "cell_type": "code",
   "execution_count": null,
   "metadata": {
    "id": "3UV1WX_FR1JE"
   },
   "outputs": [],
   "source": [
    "y_pred=regression.predict(X_test)"
   ]
  },
  {
   "cell_type": "code",
   "execution_count": null,
   "metadata": {
    "colab": {
     "base_uri": "https://localhost:8080/"
    },
    "id": "0yeelY6bljcN",
    "outputId": "44c723b0-7eb6-4771-dcb6-80099c56c648"
   },
   "outputs": [
    {
     "data": {
      "text/plain": [
       "array([3.47701761e-03, 3.43226494e-03, 3.56718871e-03, 3.49683606e-03,\n",
       "       4.83145523e-10])"
      ]
     },
     "execution_count": 87,
     "metadata": {
      "tags": []
     },
     "output_type": "execute_result"
    }
   ],
   "source": [
    "scaler.scale_"
   ]
  },
  {
   "cell_type": "code",
   "execution_count": null,
   "metadata": {
    "colab": {
     "base_uri": "https://localhost:8080/"
    },
    "id": "p_CwEFMxllK5",
    "outputId": "45b5c9c0-44ea-495f-d6fc-96c2e1adeb42"
   },
   "outputs": [
    {
     "data": {
      "text/plain": [
       "array([[0.32888097],\n",
       "       [0.3326506 ],\n",
       "       [0.34041542],\n",
       "       [0.35171306],\n",
       "       [0.3654772 ],\n",
       "       [0.38038284],\n",
       "       [0.3952365 ],\n",
       "       [0.40878862],\n",
       "       [0.41993004],\n",
       "       [0.42804766]], dtype=float32)"
      ]
     },
     "execution_count": 88,
     "metadata": {
      "tags": []
     },
     "output_type": "execute_result"
    }
   ],
   "source": [
    "y_pred[:10]"
   ]
  },
  {
   "cell_type": "code",
   "execution_count": null,
   "metadata": {
    "id": "k0Rei3zeNUHx"
   },
   "outputs": [],
   "source": [
    "#making into normal scale from standardizing"
   ]
  },
  {
   "cell_type": "code",
   "execution_count": null,
   "metadata": {
    "colab": {
     "base_uri": "https://localhost:8080/"
    },
    "id": "xIfb9ys02qel",
    "outputId": "5da58e90-91c5-4d11-b50f-f7e610c6e770"
   },
   "outputs": [
    {
     "data": {
      "text/plain": [
       "285.9728002232967"
      ]
     },
     "execution_count": 89,
     "metadata": {
      "tags": []
     },
     "output_type": "execute_result"
    }
   ],
   "source": [
    "scale=1/3.49683606e-03\n",
    "scale"
   ]
  },
  {
   "cell_type": "code",
   "execution_count": null,
   "metadata": {
    "id": "yiuuC0F-20gT"
   },
   "outputs": [],
   "source": [
    "y_pred=y_pred*scale\n",
    "y_test=y_test*scale"
   ]
  },
  {
   "cell_type": "code",
   "execution_count": null,
   "metadata": {
    "colab": {
     "base_uri": "https://localhost:8080/"
    },
    "id": "AA-i-Asw20qu",
    "outputId": "c52c6d7e-3345-41f9-88b4-b3619ad8845b"
   },
   "outputs": [
    {
     "data": {
      "text/plain": [
       "104.77559565960208"
      ]
     },
     "execution_count": 91,
     "metadata": {
      "tags": []
     },
     "output_type": "execute_result"
    }
   ],
   "source": [
    "inputs[60,0]*scale"
   ]
  },
  {
   "cell_type": "code",
   "execution_count": null,
   "metadata": {
    "id": "HjHLpylONeOc"
   },
   "outputs": [],
   "source": [
    "#Predicting output"
   ]
  },
  {
   "cell_type": "code",
   "execution_count": null,
   "metadata": {
    "colab": {
     "base_uri": "https://localhost:8080/"
    },
    "id": "opI8tUZI20zM",
    "outputId": "60eea8e3-8d52-4976-eca1-6bb31dde0a48"
   },
   "outputs": [
    {
     "data": {
      "text/plain": [
       "array([[ 94.05101 ],\n",
       "       [ 95.12903 ],\n",
       "       [ 97.349556],\n",
       "       [100.580376],\n",
       "       [104.51654 ],\n",
       "       [108.779144],\n",
       "       [113.02689 ],\n",
       "       [116.90243 ],\n",
       "       [120.08857 ],\n",
       "       [122.40999 ]], dtype=float32)"
      ]
     },
     "execution_count": 92,
     "metadata": {
      "tags": []
     },
     "output_type": "execute_result"
    }
   ],
   "source": [
    "y_pred[:10]"
   ]
  },
  {
   "cell_type": "code",
   "execution_count": null,
   "metadata": {
    "id": "aODiDXgKNdHQ"
   },
   "outputs": [],
   "source": [
    "#After Prediction evalauating with actual vs predicted "
   ]
  },
  {
   "cell_type": "code",
   "execution_count": null,
   "metadata": {
    "colab": {
     "base_uri": "https://localhost:8080/",
     "height": 336
    },
    "id": "HR_DaMKD205y",
    "outputId": "5dada285-bf24-48c5-d6a0-43a7cb67302c"
   },
   "outputs": [
    {
     "data": {
      "image/png": "[encoded data removed]",
      "text/plain": [
       "<Figure size 1008x360 with 1 Axes>"
      ]
     },
     "metadata": {
      "needs_background": "light",
      "tags": []
     },
     "output_type": "display_data"
    }
   ],
   "source": [
    "plt.figure(figsize=(14,5))\n",
    "plt.plot(y_test,color='red',label='Real Stock price')\n",
    "plt.plot(y_pred,color='blue', label='Prediction stock price')\n",
    "plt.title('Stock Price Prediction')\n",
    "plt.legend()\n",
    "plt.show()"
   ]
  },
  {
   "cell_type": "code",
   "execution_count": null,
   "metadata": {
    "id": "zZ1OXhDor7KV"
   },
   "outputs": [],
   "source": [
    "#https://medium.com/swlh/predicting-stock-prices-using-deep-learning-models-310b41cec90a\n",
    "#refer above link and can implement GRU network in place of LSTM networks"
   ]
  }
 ],
 "metadata": {
  "accelerator": "GPU",
  "colab": {
   "include_colab_link": true,
   "name": "Stock price model predictions model1.ipynb",
   "provenance": []
  },
  "kernelspec": {
   "display_name": "Python 3",
   "language": "python",
   "name": "python3"
  },
  "language_info": {
   "codemirror_mode": {
    "name": "ipython",
    "version": 3
   },
   "file_extension": ".py",
   "mimetype": "text/x-python",
   "name": "python",
   "nbconvert_exporter": "python",
   "pygments_lexer": "ipython3",
   "version": "3.8.8"
  }
 },
 "nbformat": 4,
 "nbformat_minor": 1
}
